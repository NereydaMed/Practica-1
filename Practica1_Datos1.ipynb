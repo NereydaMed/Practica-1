{
  "nbformat": 4,
  "nbformat_minor": 0,
  "metadata": {
    "colab": {
      "name": "Practica1_Datos1.ipynb",
      "provenance": [],
      "collapsed_sections": []
    },
    "kernelspec": {
      "name": "python3",
      "display_name": "Python 3"
    }
  },
  "cells": [
    {
      "cell_type": "code",
      "metadata": {
        "id": "X4Gwgc4PV_3h",
        "colab_type": "code",
        "colab": {}
      },
      "source": [
        "import pandas as pd\n",
        "import numpy as np\n",
        "import missingno as msno\n",
        "%matplotlib inline"
      ],
      "execution_count": 0,
      "outputs": []
    },
    {
      "cell_type": "code",
      "metadata": {
        "id": "8_OiPCecZO91",
        "colab_type": "code",
        "outputId": "1b0a50a1-cb78-4f70-aa68-2707d5dc051a",
        "colab": {
          "base_uri": "https://localhost:8080/",
          "height": 272
        }
      },
      "source": [
        "#https://www.kaggle.com/imdevskp/ebola-outbreak-20142016-complete-dataset/data\n",
        "path = 'ebola_2014_2016_clean.csv'\n",
        "df = pd.read_csv(path, encoding='latin', error_bad_lines=False)\n",
        "df.head()"
      ],
      "execution_count": 0,
      "outputs": [
        {
          "output_type": "execute_result",
          "data": {
            "text/html": [
              "<div>\n",
              "<style scoped>\n",
              "    .dataframe tbody tr th:only-of-type {\n",
              "        vertical-align: middle;\n",
              "    }\n",
              "\n",
              "    .dataframe tbody tr th {\n",
              "        vertical-align: top;\n",
              "    }\n",
              "\n",
              "    .dataframe thead th {\n",
              "        text-align: right;\n",
              "    }\n",
              "</style>\n",
              "<table border=\"1\" class=\"dataframe\">\n",
              "  <thead>\n",
              "    <tr style=\"text-align: right;\">\n",
              "      <th></th>\n",
              "      <th>Country</th>\n",
              "      <th>Date</th>\n",
              "      <th>No. of suspected cases</th>\n",
              "      <th>No. of probable cases</th>\n",
              "      <th>No. of confirmed cases</th>\n",
              "      <th>No. of confirmed, probable and suspected cases</th>\n",
              "      <th>No. of suspected deaths</th>\n",
              "      <th>No. of probable deaths</th>\n",
              "      <th>No. of confirmed deaths</th>\n",
              "      <th>No. of confirmed, probable and suspected deaths</th>\n",
              "    </tr>\n",
              "  </thead>\n",
              "  <tbody>\n",
              "    <tr>\n",
              "      <th>0</th>\n",
              "      <td>Guinea</td>\n",
              "      <td>29/08/14</td>\n",
              "      <td>25.0</td>\n",
              "      <td>141.0</td>\n",
              "      <td>482.0</td>\n",
              "      <td>648.0</td>\n",
              "      <td>2.0</td>\n",
              "      <td>141.0</td>\n",
              "      <td>287.0</td>\n",
              "      <td>430</td>\n",
              "    </tr>\n",
              "    <tr>\n",
              "      <th>1</th>\n",
              "      <td>Nigeria</td>\n",
              "      <td>29/08/14</td>\n",
              "      <td>3.0</td>\n",
              "      <td>1.0</td>\n",
              "      <td>15.0</td>\n",
              "      <td>19.0</td>\n",
              "      <td>0.0</td>\n",
              "      <td>1.0</td>\n",
              "      <td>6.0</td>\n",
              "      <td>7</td>\n",
              "    </tr>\n",
              "    <tr>\n",
              "      <th>2</th>\n",
              "      <td>Sierra Leone</td>\n",
              "      <td>29/08/14</td>\n",
              "      <td>54.0</td>\n",
              "      <td>37.0</td>\n",
              "      <td>935.0</td>\n",
              "      <td>1026.0</td>\n",
              "      <td>8.0</td>\n",
              "      <td>34.0</td>\n",
              "      <td>380.0</td>\n",
              "      <td>422</td>\n",
              "    </tr>\n",
              "    <tr>\n",
              "      <th>3</th>\n",
              "      <td>Liberia</td>\n",
              "      <td>29/08/14</td>\n",
              "      <td>382.0</td>\n",
              "      <td>674.0</td>\n",
              "      <td>322.0</td>\n",
              "      <td>1378.0</td>\n",
              "      <td>168.0</td>\n",
              "      <td>301.0</td>\n",
              "      <td>225.0</td>\n",
              "      <td>694</td>\n",
              "    </tr>\n",
              "    <tr>\n",
              "      <th>4</th>\n",
              "      <td>Sierra Leone</td>\n",
              "      <td>05/09/14</td>\n",
              "      <td>78.0</td>\n",
              "      <td>37.0</td>\n",
              "      <td>1146.0</td>\n",
              "      <td>1261.0</td>\n",
              "      <td>11.0</td>\n",
              "      <td>37.0</td>\n",
              "      <td>443.0</td>\n",
              "      <td>491</td>\n",
              "    </tr>\n",
              "  </tbody>\n",
              "</table>\n",
              "</div>"
            ],
            "text/plain": [
              "        Country  ... No. of confirmed, probable and suspected deaths\n",
              "0        Guinea  ...                                             430\n",
              "1       Nigeria  ...                                               7\n",
              "2  Sierra Leone  ...                                             422\n",
              "3       Liberia  ...                                             694\n",
              "4  Sierra Leone  ...                                             491\n",
              "\n",
              "[5 rows x 10 columns]"
            ]
          },
          "metadata": {
            "tags": []
          },
          "execution_count": 16
        }
      ]
    },
    {
      "cell_type": "code",
      "metadata": {
        "id": "mTqtaG0viS56",
        "colab_type": "code",
        "outputId": "4c0a9881-ea73-4341-daf5-a62decbc8275",
        "colab": {
          "base_uri": "https://localhost:8080/",
          "height": 272
        }
      },
      "source": [
        "\n",
        "df.info()\n"
      ],
      "execution_count": 0,
      "outputs": [
        {
          "output_type": "stream",
          "text": [
            "<class 'pandas.core.frame.DataFrame'>\n",
            "RangeIndex: 2485 entries, 0 to 2484\n",
            "Data columns (total 10 columns):\n",
            "Country                                            2485 non-null object\n",
            "Date                                               2485 non-null object\n",
            "No. of suspected cases                             2366 non-null float64\n",
            "No. of probable cases                              2436 non-null float64\n",
            "No. of confirmed cases                             2484 non-null float64\n",
            "No. of confirmed, probable and suspected cases     2477 non-null float64\n",
            "No. of suspected deaths                            1308 non-null float64\n",
            "No. of probable deaths                             1526 non-null float64\n",
            "No. of confirmed deaths                            1648 non-null float64\n",
            "No. of confirmed, probable and suspected deaths    2485 non-null int64\n",
            "dtypes: float64(7), int64(1), object(2)\n",
            "memory usage: 194.3+ KB\n"
          ],
          "name": "stdout"
        }
      ]
    },
    {
      "cell_type": "code",
      "metadata": {
        "id": "xSzXFJoIigAg",
        "colab_type": "code",
        "outputId": "56a90a9b-4d41-4fda-9cc2-281c92a656e6",
        "colab": {
          "base_uri": "https://localhost:8080/",
          "height": 34
        }
      },
      "source": [
        "df.shape"
      ],
      "execution_count": 0,
      "outputs": [
        {
          "output_type": "execute_result",
          "data": {
            "text/plain": [
              "(2485, 10)"
            ]
          },
          "metadata": {
            "tags": []
          },
          "execution_count": 18
        }
      ]
    },
    {
      "cell_type": "code",
      "metadata": {
        "id": "QuiQqjmkimsB",
        "colab_type": "code",
        "outputId": "7fce75a3-4797-4894-ec1f-f63ae9a39283",
        "colab": {
          "base_uri": "https://localhost:8080/",
          "height": 34
        }
      },
      "source": [
        "df.shape[0]\n"
      ],
      "execution_count": 0,
      "outputs": [
        {
          "output_type": "execute_result",
          "data": {
            "text/plain": [
              "2485"
            ]
          },
          "metadata": {
            "tags": []
          },
          "execution_count": 19
        }
      ]
    },
    {
      "cell_type": "code",
      "metadata": {
        "id": "DsGQs9-UiyQu",
        "colab_type": "code",
        "outputId": "7f3e696b-ffb4-4a57-9127-f05a958084a3",
        "colab": {
          "base_uri": "https://localhost:8080/",
          "height": 34
        }
      },
      "source": [
        "df.shape[1]\n"
      ],
      "execution_count": 0,
      "outputs": [
        {
          "output_type": "execute_result",
          "data": {
            "text/plain": [
              "10"
            ]
          },
          "metadata": {
            "tags": []
          },
          "execution_count": 20
        }
      ]
    },
    {
      "cell_type": "code",
      "metadata": {
        "id": "OxXTU6dNi47I",
        "colab_type": "code",
        "outputId": "9ecae176-de0e-40b9-a031-12a8182a2098",
        "colab": {
          "base_uri": "https://localhost:8080/",
          "height": 187
        }
      },
      "source": [
        "df.columns.values.tolist()"
      ],
      "execution_count": 0,
      "outputs": [
        {
          "output_type": "execute_result",
          "data": {
            "text/plain": [
              "['Country',\n",
              " 'Date',\n",
              " 'No. of suspected cases',\n",
              " 'No. of probable cases',\n",
              " 'No. of confirmed cases',\n",
              " 'No. of confirmed, probable and suspected cases',\n",
              " 'No. of suspected deaths',\n",
              " 'No. of probable deaths',\n",
              " 'No. of confirmed deaths',\n",
              " 'No. of confirmed, probable and suspected deaths']"
            ]
          },
          "metadata": {
            "tags": []
          },
          "execution_count": 21
        }
      ]
    },
    {
      "cell_type": "code",
      "metadata": {
        "id": "sn93ODrGi_cf",
        "colab_type": "code",
        "outputId": "1d910836-7d91-4984-a730-63d7cf1fc2de",
        "colab": {
          "base_uri": "https://localhost:8080/",
          "height": 204
        }
      },
      "source": [
        "df.dtypes"
      ],
      "execution_count": 0,
      "outputs": [
        {
          "output_type": "execute_result",
          "data": {
            "text/plain": [
              "Country                                             object\n",
              "Date                                                object\n",
              "No. of suspected cases                             float64\n",
              "No. of probable cases                              float64\n",
              "No. of confirmed cases                             float64\n",
              "No. of confirmed, probable and suspected cases     float64\n",
              "No. of suspected deaths                            float64\n",
              "No. of probable deaths                             float64\n",
              "No. of confirmed deaths                            float64\n",
              "No. of confirmed, probable and suspected deaths      int64\n",
              "dtype: object"
            ]
          },
          "metadata": {
            "tags": []
          },
          "execution_count": 22
        }
      ]
    },
    {
      "cell_type": "code",
      "metadata": {
        "id": "eCC8oZvUjH2V",
        "colab_type": "code",
        "outputId": "faef1c78-c1ac-4781-ed79-d97c0d57452e",
        "colab": {
          "base_uri": "https://localhost:8080/",
          "height": 34
        }
      },
      "source": [
        "\n",
        "df.isnull().any().any()"
      ],
      "execution_count": 0,
      "outputs": [
        {
          "output_type": "execute_result",
          "data": {
            "text/plain": [
              "True"
            ]
          },
          "metadata": {
            "tags": []
          },
          "execution_count": 23
        }
      ]
    },
    {
      "cell_type": "code",
      "metadata": {
        "id": "ToUGvwk0jLLn",
        "colab_type": "code",
        "outputId": "868103a7-fd6a-48b0-adb2-0022fb450654",
        "colab": {
          "base_uri": "https://localhost:8080/",
          "height": 922
        }
      },
      "source": [
        "\n",
        "msno.matrix(df)"
      ],
      "execution_count": 0,
      "outputs": [
        {
          "output_type": "execute_result",
          "data": {
            "text/plain": [
              "<matplotlib.axes._subplots.AxesSubplot at 0x7f29683074e0>"
            ]
          },
          "metadata": {
            "tags": []
          },
          "execution_count": 24
        },
        {
          "output_type": "display_data",
          "data": {
            "image/png": "[encoded data removed]",
            "text/plain": [
              "<Figure size 1800x720 with 2 Axes>"
            ]
          },
          "metadata": {
            "tags": []
          }
        }
      ]
    },
    {
      "cell_type": "code",
      "metadata": {
        "id": "agt6FERIjPUK",
        "colab_type": "code",
        "colab": {}
      },
      "source": [
        "df.replace({' ': np.nan}, inplace=True)\n"
      ],
      "execution_count": 0,
      "outputs": []
    },
    {
      "cell_type": "code",
      "metadata": {
        "id": "K4Kl2sv2jYhD",
        "colab_type": "code",
        "outputId": "2e93f09d-c1bf-4f5a-dd97-0a98248480e2",
        "colab": {
          "base_uri": "https://localhost:8080/",
          "height": 34
        }
      },
      "source": [
        "df.isnull().any().any()"
      ],
      "execution_count": 0,
      "outputs": [
        {
          "output_type": "execute_result",
          "data": {
            "text/plain": [
              "True"
            ]
          },
          "metadata": {
            "tags": []
          },
          "execution_count": 30
        }
      ]
    },
    {
      "cell_type": "code",
      "metadata": {
        "id": "XdxoIj0kjbU3",
        "colab_type": "code",
        "outputId": "a6ae1432-0ccb-4999-be98-d018788d8951",
        "colab": {
          "base_uri": "https://localhost:8080/",
          "height": 922
        }
      },
      "source": [
        "msno.matrix(df)"
      ],
      "execution_count": 0,
      "outputs": [
        {
          "output_type": "execute_result",
          "data": {
            "text/plain": [
              "<matplotlib.axes._subplots.AxesSubplot at 0x7f29655ee6a0>"
            ]
          },
          "metadata": {
            "tags": []
          },
          "execution_count": 31
        },
        {
          "output_type": "display_data",
          "data": {
            "image/png": "[encoded data removed]",
            "text/plain": [
              "<Figure size 1800x720 with 2 Axes>"
            ]
          },
          "metadata": {
            "tags": []
          }
        }
      ]
    },
    {
      "cell_type": "code",
      "metadata": {
        "id": "7iyrq-KejiT_",
        "colab_type": "code",
        "outputId": "6a17bf24-3e1a-4e4a-a80b-b46aa83d1d6b",
        "colab": {
          "base_uri": "https://localhost:8080/",
          "height": 957
        }
      },
      "source": [
        "\n",
        "msno.bar(df)"
      ],
      "execution_count": 0,
      "outputs": [
        {
          "output_type": "execute_result",
          "data": {
            "text/plain": [
              "<matplotlib.axes._subplots.AxesSubplot at 0x7f29652fff98>"
            ]
          },
          "metadata": {
            "tags": []
          },
          "execution_count": 32
        },
        {
          "output_type": "display_data",
          "data": {
            "image/png": "[encoded data removed]",
            "text/plain": [
              "<Figure size 1728x720 with 3 Axes>"
            ]
          },
          "metadata": {
            "tags": []
          }
        }
      ]
    },
    {
      "cell_type": "code",
      "metadata": {
        "id": "WJxUe02yjn2B",
        "colab_type": "code",
        "outputId": "b4026d65-d702-4ab1-f27b-a947647187d4",
        "colab": {
          "base_uri": "https://localhost:8080/",
          "height": 136
        }
      },
      "source": [
        "df.columns[df.isnull().any()].tolist()"
      ],
      "execution_count": 0,
      "outputs": [
        {
          "output_type": "execute_result",
          "data": {
            "text/plain": [
              "['No. of suspected cases',\n",
              " 'No. of probable cases',\n",
              " 'No. of confirmed cases',\n",
              " 'No. of confirmed, probable and suspected cases',\n",
              " 'No. of suspected deaths',\n",
              " 'No. of probable deaths',\n",
              " 'No. of confirmed deaths']"
            ]
          },
          "metadata": {
            "tags": []
          },
          "execution_count": 33
        }
      ]
    },
    {
      "cell_type": "code",
      "metadata": {
        "id": "3GZpH599jx3H",
        "colab_type": "code",
        "outputId": "c709451e-f4d8-488b-c7e5-4be2f27fd2b2",
        "colab": {
          "base_uri": "https://localhost:8080/",
          "height": 331
        }
      },
      "source": [
        "df.describe()"
      ],
      "execution_count": 0,
      "outputs": [
        {
          "output_type": "execute_result",
          "data": {
            "text/html": [
              "<div>\n",
              "<style scoped>\n",
              "    .dataframe tbody tr th:only-of-type {\n",
              "        vertical-align: middle;\n",
              "    }\n",
              "\n",
              "    .dataframe tbody tr th {\n",
              "        vertical-align: top;\n",
              "    }\n",
              "\n",
              "    .dataframe thead th {\n",
              "        text-align: right;\n",
              "    }\n",
              "</style>\n",
              "<table border=\"1\" class=\"dataframe\">\n",
              "  <thead>\n",
              "    <tr style=\"text-align: right;\">\n",
              "      <th></th>\n",
              "      <th>No. of suspected cases</th>\n",
              "      <th>No. of probable cases</th>\n",
              "      <th>No. of confirmed cases</th>\n",
              "      <th>No. of confirmed, probable and suspected cases</th>\n",
              "      <th>No. of suspected deaths</th>\n",
              "      <th>No. of probable deaths</th>\n",
              "      <th>No. of confirmed deaths</th>\n",
              "      <th>No. of confirmed, probable and suspected deaths</th>\n",
              "    </tr>\n",
              "  </thead>\n",
              "  <tbody>\n",
              "    <tr>\n",
              "      <th>count</th>\n",
              "      <td>2366.000000</td>\n",
              "      <td>2436.000000</td>\n",
              "      <td>2484.000000</td>\n",
              "      <td>2477.000000</td>\n",
              "      <td>1308.000000</td>\n",
              "      <td>1526.000000</td>\n",
              "      <td>1648.000000</td>\n",
              "      <td>2485.000000</td>\n",
              "    </tr>\n",
              "    <tr>\n",
              "      <th>mean</th>\n",
              "      <td>891.841505</td>\n",
              "      <td>263.733580</td>\n",
              "      <td>1436.616345</td>\n",
              "      <td>2553.678644</td>\n",
              "      <td>32.899083</td>\n",
              "      <td>104.535387</td>\n",
              "      <td>781.662015</td>\n",
              "      <td>1028.347686</td>\n",
              "    </tr>\n",
              "    <tr>\n",
              "      <th>std</th>\n",
              "      <td>1828.699240</td>\n",
              "      <td>561.483886</td>\n",
              "      <td>2574.200797</td>\n",
              "      <td>4427.118148</td>\n",
              "      <td>73.166362</td>\n",
              "      <td>161.420208</td>\n",
              "      <td>1258.113098</td>\n",
              "      <td>1656.064372</td>\n",
              "    </tr>\n",
              "    <tr>\n",
              "      <th>min</th>\n",
              "      <td>0.000000</td>\n",
              "      <td>0.000000</td>\n",
              "      <td>1.000000</td>\n",
              "      <td>0.000000</td>\n",
              "      <td>0.000000</td>\n",
              "      <td>0.000000</td>\n",
              "      <td>0.000000</td>\n",
              "      <td>0.000000</td>\n",
              "    </tr>\n",
              "    <tr>\n",
              "      <th>25%</th>\n",
              "      <td>0.000000</td>\n",
              "      <td>0.000000</td>\n",
              "      <td>1.000000</td>\n",
              "      <td>1.000000</td>\n",
              "      <td>0.000000</td>\n",
              "      <td>0.000000</td>\n",
              "      <td>0.000000</td>\n",
              "      <td>0.000000</td>\n",
              "    </tr>\n",
              "    <tr>\n",
              "      <th>50%</th>\n",
              "      <td>0.000000</td>\n",
              "      <td>1.000000</td>\n",
              "      <td>7.000000</td>\n",
              "      <td>8.000000</td>\n",
              "      <td>0.000000</td>\n",
              "      <td>1.000000</td>\n",
              "      <td>2.000000</td>\n",
              "      <td>6.000000</td>\n",
              "    </tr>\n",
              "    <tr>\n",
              "      <th>75%</th>\n",
              "      <td>17.000000</td>\n",
              "      <td>287.000000</td>\n",
              "      <td>3118.000000</td>\n",
              "      <td>3657.000000</td>\n",
              "      <td>0.000000</td>\n",
              "      <td>208.000000</td>\n",
              "      <td>1760.750000</td>\n",
              "      <td>2386.000000</td>\n",
              "    </tr>\n",
              "    <tr>\n",
              "      <th>max</th>\n",
              "      <td>5636.000000</td>\n",
              "      <td>2106.000000</td>\n",
              "      <td>8704.000000</td>\n",
              "      <td>14122.000000</td>\n",
              "      <td>661.000000</td>\n",
              "      <td>803.000000</td>\n",
              "      <td>3858.000000</td>\n",
              "      <td>4806.000000</td>\n",
              "    </tr>\n",
              "  </tbody>\n",
              "</table>\n",
              "</div>"
            ],
            "text/plain": [
              "       No. of suspected cases  ...  No. of confirmed, probable and suspected deaths\n",
              "count             2366.000000  ...                                      2485.000000\n",
              "mean               891.841505  ...                                      1028.347686\n",
              "std               1828.699240  ...                                      1656.064372\n",
              "min                  0.000000  ...                                         0.000000\n",
              "25%                  0.000000  ...                                         0.000000\n",
              "50%                  0.000000  ...                                         6.000000\n",
              "75%                 17.000000  ...                                      2386.000000\n",
              "max               5636.000000  ...                                      4806.000000\n",
              "\n",
              "[8 rows x 8 columns]"
            ]
          },
          "metadata": {
            "tags": []
          },
          "execution_count": 34
        }
      ]
    },
    {
      "cell_type": "code",
      "metadata": {
        "id": "-A6JsBQ4j8sL",
        "colab_type": "code",
        "outputId": "97316bda-b358-46c4-a523-38c96482a30d",
        "colab": {
          "base_uri": "https://localhost:8080/",
          "height": 114
        }
      },
      "source": [
        "df.loc[[0]]"
      ],
      "execution_count": 0,
      "outputs": [
        {
          "output_type": "execute_result",
          "data": {
            "text/html": [
              "<div>\n",
              "<style scoped>\n",
              "    .dataframe tbody tr th:only-of-type {\n",
              "        vertical-align: middle;\n",
              "    }\n",
              "\n",
              "    .dataframe tbody tr th {\n",
              "        vertical-align: top;\n",
              "    }\n",
              "\n",
              "    .dataframe thead th {\n",
              "        text-align: right;\n",
              "    }\n",
              "</style>\n",
              "<table border=\"1\" class=\"dataframe\">\n",
              "  <thead>\n",
              "    <tr style=\"text-align: right;\">\n",
              "      <th></th>\n",
              "      <th>Country</th>\n",
              "      <th>Date</th>\n",
              "      <th>No. of suspected cases</th>\n",
              "      <th>No. of probable cases</th>\n",
              "      <th>No. of confirmed cases</th>\n",
              "      <th>No. of confirmed, probable and suspected cases</th>\n",
              "      <th>No. of suspected deaths</th>\n",
              "      <th>No. of probable deaths</th>\n",
              "      <th>No. of confirmed deaths</th>\n",
              "      <th>No. of confirmed, probable and suspected deaths</th>\n",
              "    </tr>\n",
              "  </thead>\n",
              "  <tbody>\n",
              "    <tr>\n",
              "      <th>0</th>\n",
              "      <td>Guinea</td>\n",
              "      <td>29/08/14</td>\n",
              "      <td>25.0</td>\n",
              "      <td>141.0</td>\n",
              "      <td>482.0</td>\n",
              "      <td>648.0</td>\n",
              "      <td>2.0</td>\n",
              "      <td>141.0</td>\n",
              "      <td>287.0</td>\n",
              "      <td>430</td>\n",
              "    </tr>\n",
              "  </tbody>\n",
              "</table>\n",
              "</div>"
            ],
            "text/plain": [
              "  Country  ... No. of confirmed, probable and suspected deaths\n",
              "0  Guinea  ...                                             430\n",
              "\n",
              "[1 rows x 10 columns]"
            ]
          },
          "metadata": {
            "tags": []
          },
          "execution_count": 35
        }
      ]
    },
    {
      "cell_type": "code",
      "metadata": {
        "id": "Nn9jbZhGkCcl",
        "colab_type": "code",
        "outputId": "8d7870ce-55c6-4fee-f7db-9cecdc4ecf1b",
        "colab": {
          "base_uri": "https://localhost:8080/",
          "height": 241
        }
      },
      "source": [
        "df.loc[30:33]"
      ],
      "execution_count": 0,
      "outputs": [
        {
          "output_type": "execute_result",
          "data": {
            "text/html": [
              "<div>\n",
              "<style scoped>\n",
              "    .dataframe tbody tr th:only-of-type {\n",
              "        vertical-align: middle;\n",
              "    }\n",
              "\n",
              "    .dataframe tbody tr th {\n",
              "        vertical-align: top;\n",
              "    }\n",
              "\n",
              "    .dataframe thead th {\n",
              "        text-align: right;\n",
              "    }\n",
              "</style>\n",
              "<table border=\"1\" class=\"dataframe\">\n",
              "  <thead>\n",
              "    <tr style=\"text-align: right;\">\n",
              "      <th></th>\n",
              "      <th>Country</th>\n",
              "      <th>Date</th>\n",
              "      <th>No. of suspected cases</th>\n",
              "      <th>No. of probable cases</th>\n",
              "      <th>No. of confirmed cases</th>\n",
              "      <th>No. of confirmed, probable and suspected cases</th>\n",
              "      <th>No. of suspected deaths</th>\n",
              "      <th>No. of probable deaths</th>\n",
              "      <th>No. of confirmed deaths</th>\n",
              "      <th>No. of confirmed, probable and suspected deaths</th>\n",
              "    </tr>\n",
              "  </thead>\n",
              "  <tbody>\n",
              "    <tr>\n",
              "      <th>30</th>\n",
              "      <td>Sierra Leone</td>\n",
              "      <td>22/09/14</td>\n",
              "      <td>136.0</td>\n",
              "      <td>37.0</td>\n",
              "      <td>1640.0</td>\n",
              "      <td>1813.0</td>\n",
              "      <td>11.0</td>\n",
              "      <td>37.0</td>\n",
              "      <td>545.0</td>\n",
              "      <td>593</td>\n",
              "    </tr>\n",
              "    <tr>\n",
              "      <th>31</th>\n",
              "      <td>Liberia</td>\n",
              "      <td>22/09/14</td>\n",
              "      <td>817.0</td>\n",
              "      <td>1342.0</td>\n",
              "      <td>863.0</td>\n",
              "      <td>3022.0</td>\n",
              "      <td>364.0</td>\n",
              "      <td>544.0</td>\n",
              "      <td>670.0</td>\n",
              "      <td>1578</td>\n",
              "    </tr>\n",
              "    <tr>\n",
              "      <th>32</th>\n",
              "      <td>Senegal</td>\n",
              "      <td>22/09/14</td>\n",
              "      <td>0.0</td>\n",
              "      <td>0.0</td>\n",
              "      <td>1.0</td>\n",
              "      <td>1.0</td>\n",
              "      <td>0.0</td>\n",
              "      <td>0.0</td>\n",
              "      <td>0.0</td>\n",
              "      <td>0</td>\n",
              "    </tr>\n",
              "    <tr>\n",
              "      <th>33</th>\n",
              "      <td>Guinea</td>\n",
              "      <td>22/09/14</td>\n",
              "      <td>28.0</td>\n",
              "      <td>162.0</td>\n",
              "      <td>818.0</td>\n",
              "      <td>1008.0</td>\n",
              "      <td>5.0</td>\n",
              "      <td>162.0</td>\n",
              "      <td>465.0</td>\n",
              "      <td>632</td>\n",
              "    </tr>\n",
              "  </tbody>\n",
              "</table>\n",
              "</div>"
            ],
            "text/plain": [
              "         Country  ... No. of confirmed, probable and suspected deaths\n",
              "30  Sierra Leone  ...                                             593\n",
              "31       Liberia  ...                                            1578\n",
              "32       Senegal  ...                                               0\n",
              "33        Guinea  ...                                             632\n",
              "\n",
              "[4 rows x 10 columns]"
            ]
          },
          "metadata": {
            "tags": []
          },
          "execution_count": 36
        }
      ]
    },
    {
      "cell_type": "code",
      "metadata": {
        "id": "_y1N-YJHkFz5",
        "colab_type": "code",
        "outputId": "774c5384-6d5e-4a0d-b2a0-7d731d2ac69d",
        "colab": {
          "base_uri": "https://localhost:8080/",
          "height": 272
        }
      },
      "source": [
        "\n",
        "df.drop([0,24,51], axis=0).head()"
      ],
      "execution_count": 0,
      "outputs": [
        {
          "output_type": "execute_result",
          "data": {
            "text/html": [
              "<div>\n",
              "<style scoped>\n",
              "    .dataframe tbody tr th:only-of-type {\n",
              "        vertical-align: middle;\n",
              "    }\n",
              "\n",
              "    .dataframe tbody tr th {\n",
              "        vertical-align: top;\n",
              "    }\n",
              "\n",
              "    .dataframe thead th {\n",
              "        text-align: right;\n",
              "    }\n",
              "</style>\n",
              "<table border=\"1\" class=\"dataframe\">\n",
              "  <thead>\n",
              "    <tr style=\"text-align: right;\">\n",
              "      <th></th>\n",
              "      <th>Country</th>\n",
              "      <th>Date</th>\n",
              "      <th>No. of suspected cases</th>\n",
              "      <th>No. of probable cases</th>\n",
              "      <th>No. of confirmed cases</th>\n",
              "      <th>No. of confirmed, probable and suspected cases</th>\n",
              "      <th>No. of suspected deaths</th>\n",
              "      <th>No. of probable deaths</th>\n",
              "      <th>No. of confirmed deaths</th>\n",
              "      <th>No. of confirmed, probable and suspected deaths</th>\n",
              "    </tr>\n",
              "  </thead>\n",
              "  <tbody>\n",
              "    <tr>\n",
              "      <th>1</th>\n",
              "      <td>Nigeria</td>\n",
              "      <td>29/08/14</td>\n",
              "      <td>3.0</td>\n",
              "      <td>1.0</td>\n",
              "      <td>15.0</td>\n",
              "      <td>19.0</td>\n",
              "      <td>0.0</td>\n",
              "      <td>1.0</td>\n",
              "      <td>6.0</td>\n",
              "      <td>7</td>\n",
              "    </tr>\n",
              "    <tr>\n",
              "      <th>2</th>\n",
              "      <td>Sierra Leone</td>\n",
              "      <td>29/08/14</td>\n",
              "      <td>54.0</td>\n",
              "      <td>37.0</td>\n",
              "      <td>935.0</td>\n",
              "      <td>1026.0</td>\n",
              "      <td>8.0</td>\n",
              "      <td>34.0</td>\n",
              "      <td>380.0</td>\n",
              "      <td>422</td>\n",
              "    </tr>\n",
              "    <tr>\n",
              "      <th>3</th>\n",
              "      <td>Liberia</td>\n",
              "      <td>29/08/14</td>\n",
              "      <td>382.0</td>\n",
              "      <td>674.0</td>\n",
              "      <td>322.0</td>\n",
              "      <td>1378.0</td>\n",
              "      <td>168.0</td>\n",
              "      <td>301.0</td>\n",
              "      <td>225.0</td>\n",
              "      <td>694</td>\n",
              "    </tr>\n",
              "    <tr>\n",
              "      <th>4</th>\n",
              "      <td>Sierra Leone</td>\n",
              "      <td>05/09/14</td>\n",
              "      <td>78.0</td>\n",
              "      <td>37.0</td>\n",
              "      <td>1146.0</td>\n",
              "      <td>1261.0</td>\n",
              "      <td>11.0</td>\n",
              "      <td>37.0</td>\n",
              "      <td>443.0</td>\n",
              "      <td>491</td>\n",
              "    </tr>\n",
              "    <tr>\n",
              "      <th>5</th>\n",
              "      <td>Nigeria</td>\n",
              "      <td>05/09/14</td>\n",
              "      <td>3.0</td>\n",
              "      <td>1.0</td>\n",
              "      <td>18.0</td>\n",
              "      <td>22.0</td>\n",
              "      <td>0.0</td>\n",
              "      <td>1.0</td>\n",
              "      <td>7.0</td>\n",
              "      <td>8</td>\n",
              "    </tr>\n",
              "  </tbody>\n",
              "</table>\n",
              "</div>"
            ],
            "text/plain": [
              "        Country  ... No. of confirmed, probable and suspected deaths\n",
              "1       Nigeria  ...                                               7\n",
              "2  Sierra Leone  ...                                             422\n",
              "3       Liberia  ...                                             694\n",
              "4  Sierra Leone  ...                                             491\n",
              "5       Nigeria  ...                                               8\n",
              "\n",
              "[5 rows x 10 columns]"
            ]
          },
          "metadata": {
            "tags": []
          },
          "execution_count": 37
        }
      ]
    },
    {
      "cell_type": "code",
      "metadata": {
        "id": "UcH77wntkVY9",
        "colab_type": "code",
        "outputId": "a5de4d59-dabb-4f3e-c9fd-59fbdca63339",
        "colab": {
          "base_uri": "https://localhost:8080/",
          "height": 427
        }
      },
      "source": [
        "df.drop(df.index[1:5], axis=0).head(10)"
      ],
      "execution_count": 0,
      "outputs": [
        {
          "output_type": "execute_result",
          "data": {
            "text/html": [
              "<div>\n",
              "<style scoped>\n",
              "    .dataframe tbody tr th:only-of-type {\n",
              "        vertical-align: middle;\n",
              "    }\n",
              "\n",
              "    .dataframe tbody tr th {\n",
              "        vertical-align: top;\n",
              "    }\n",
              "\n",
              "    .dataframe thead th {\n",
              "        text-align: right;\n",
              "    }\n",
              "</style>\n",
              "<table border=\"1\" class=\"dataframe\">\n",
              "  <thead>\n",
              "    <tr style=\"text-align: right;\">\n",
              "      <th></th>\n",
              "      <th>Country</th>\n",
              "      <th>Date</th>\n",
              "      <th>No. of suspected cases</th>\n",
              "      <th>No. of probable cases</th>\n",
              "      <th>No. of confirmed cases</th>\n",
              "      <th>No. of confirmed, probable and suspected cases</th>\n",
              "      <th>No. of suspected deaths</th>\n",
              "      <th>No. of probable deaths</th>\n",
              "      <th>No. of confirmed deaths</th>\n",
              "      <th>No. of confirmed, probable and suspected deaths</th>\n",
              "    </tr>\n",
              "  </thead>\n",
              "  <tbody>\n",
              "    <tr>\n",
              "      <th>0</th>\n",
              "      <td>Guinea</td>\n",
              "      <td>29/08/14</td>\n",
              "      <td>25.0</td>\n",
              "      <td>141.0</td>\n",
              "      <td>482.0</td>\n",
              "      <td>648.0</td>\n",
              "      <td>2.0</td>\n",
              "      <td>141.0</td>\n",
              "      <td>287.0</td>\n",
              "      <td>430</td>\n",
              "    </tr>\n",
              "    <tr>\n",
              "      <th>5</th>\n",
              "      <td>Nigeria</td>\n",
              "      <td>05/09/14</td>\n",
              "      <td>3.0</td>\n",
              "      <td>1.0</td>\n",
              "      <td>18.0</td>\n",
              "      <td>22.0</td>\n",
              "      <td>0.0</td>\n",
              "      <td>1.0</td>\n",
              "      <td>7.0</td>\n",
              "      <td>8</td>\n",
              "    </tr>\n",
              "    <tr>\n",
              "      <th>6</th>\n",
              "      <td>Liberia</td>\n",
              "      <td>05/09/14</td>\n",
              "      <td>369.0</td>\n",
              "      <td>888.0</td>\n",
              "      <td>614.0</td>\n",
              "      <td>1871.0</td>\n",
              "      <td>257.0</td>\n",
              "      <td>401.0</td>\n",
              "      <td>431.0</td>\n",
              "      <td>1089</td>\n",
              "    </tr>\n",
              "    <tr>\n",
              "      <th>7</th>\n",
              "      <td>Guinea</td>\n",
              "      <td>05/09/14</td>\n",
              "      <td>56.0</td>\n",
              "      <td>152.0</td>\n",
              "      <td>604.0</td>\n",
              "      <td>812.0</td>\n",
              "      <td>3.0</td>\n",
              "      <td>152.0</td>\n",
              "      <td>362.0</td>\n",
              "      <td>517</td>\n",
              "    </tr>\n",
              "    <tr>\n",
              "      <th>8</th>\n",
              "      <td>Senegal</td>\n",
              "      <td>05/09/14</td>\n",
              "      <td>NaN</td>\n",
              "      <td>NaN</td>\n",
              "      <td>1.0</td>\n",
              "      <td>1.0</td>\n",
              "      <td>NaN</td>\n",
              "      <td>NaN</td>\n",
              "      <td>0.0</td>\n",
              "      <td>0</td>\n",
              "    </tr>\n",
              "    <tr>\n",
              "      <th>9</th>\n",
              "      <td>Senegal</td>\n",
              "      <td>08/09/14</td>\n",
              "      <td>2.0</td>\n",
              "      <td>0.0</td>\n",
              "      <td>1.0</td>\n",
              "      <td>3.0</td>\n",
              "      <td>0.0</td>\n",
              "      <td>0.0</td>\n",
              "      <td>0.0</td>\n",
              "      <td>0</td>\n",
              "    </tr>\n",
              "    <tr>\n",
              "      <th>10</th>\n",
              "      <td>Guinea</td>\n",
              "      <td>08/09/14</td>\n",
              "      <td>47.0</td>\n",
              "      <td>151.0</td>\n",
              "      <td>664.0</td>\n",
              "      <td>862.0</td>\n",
              "      <td>4.0</td>\n",
              "      <td>151.0</td>\n",
              "      <td>400.0</td>\n",
              "      <td>555</td>\n",
              "    </tr>\n",
              "    <tr>\n",
              "      <th>11</th>\n",
              "      <td>Sierra Leone</td>\n",
              "      <td>08/09/14</td>\n",
              "      <td>90.0</td>\n",
              "      <td>37.0</td>\n",
              "      <td>1234.0</td>\n",
              "      <td>1361.0</td>\n",
              "      <td>11.0</td>\n",
              "      <td>37.0</td>\n",
              "      <td>461.0</td>\n",
              "      <td>509</td>\n",
              "    </tr>\n",
              "    <tr>\n",
              "      <th>12</th>\n",
              "      <td>Liberia</td>\n",
              "      <td>08/09/14</td>\n",
              "      <td>443.0</td>\n",
              "      <td>969.0</td>\n",
              "      <td>634.0</td>\n",
              "      <td>2046.0</td>\n",
              "      <td>296.0</td>\n",
              "      <td>420.0</td>\n",
              "      <td>508.0</td>\n",
              "      <td>1224</td>\n",
              "    </tr>\n",
              "    <tr>\n",
              "      <th>13</th>\n",
              "      <td>Nigeria</td>\n",
              "      <td>08/09/14</td>\n",
              "      <td>1.0</td>\n",
              "      <td>1.0</td>\n",
              "      <td>19.0</td>\n",
              "      <td>21.0</td>\n",
              "      <td>0.0</td>\n",
              "      <td>1.0</td>\n",
              "      <td>7.0</td>\n",
              "      <td>8</td>\n",
              "    </tr>\n",
              "  </tbody>\n",
              "</table>\n",
              "</div>"
            ],
            "text/plain": [
              "         Country  ... No. of confirmed, probable and suspected deaths\n",
              "0         Guinea  ...                                             430\n",
              "5        Nigeria  ...                                               8\n",
              "6        Liberia  ...                                            1089\n",
              "7         Guinea  ...                                             517\n",
              "8        Senegal  ...                                               0\n",
              "9        Senegal  ...                                               0\n",
              "10        Guinea  ...                                             555\n",
              "11  Sierra Leone  ...                                             509\n",
              "12       Liberia  ...                                            1224\n",
              "13       Nigeria  ...                                               8\n",
              "\n",
              "[10 rows x 10 columns]"
            ]
          },
          "metadata": {
            "tags": []
          },
          "execution_count": 38
        }
      ]
    },
    {
      "cell_type": "code",
      "metadata": {
        "id": "golcrY0kkdjK",
        "colab_type": "code",
        "outputId": "4ec0cd51-979f-46d5-e12d-024b6d3b6808",
        "colab": {
          "base_uri": "https://localhost:8080/",
          "height": 323
        }
      },
      "source": [
        "df[100:].head() #df.tail(-100) )"
      ],
      "execution_count": 0,
      "outputs": [
        {
          "output_type": "execute_result",
          "data": {
            "text/html": [
              "<div>\n",
              "<style scoped>\n",
              "    .dataframe tbody tr th:only-of-type {\n",
              "        vertical-align: middle;\n",
              "    }\n",
              "\n",
              "    .dataframe tbody tr th {\n",
              "        vertical-align: top;\n",
              "    }\n",
              "\n",
              "    .dataframe thead th {\n",
              "        text-align: right;\n",
              "    }\n",
              "</style>\n",
              "<table border=\"1\" class=\"dataframe\">\n",
              "  <thead>\n",
              "    <tr style=\"text-align: right;\">\n",
              "      <th></th>\n",
              "      <th>Country</th>\n",
              "      <th>Date</th>\n",
              "      <th>No. of suspected cases</th>\n",
              "      <th>No. of probable cases</th>\n",
              "      <th>No. of confirmed cases</th>\n",
              "      <th>No. of confirmed, probable and suspected cases</th>\n",
              "      <th>No. of suspected deaths</th>\n",
              "      <th>No. of probable deaths</th>\n",
              "      <th>No. of confirmed deaths</th>\n",
              "      <th>No. of confirmed, probable and suspected deaths</th>\n",
              "    </tr>\n",
              "  </thead>\n",
              "  <tbody>\n",
              "    <tr>\n",
              "      <th>100</th>\n",
              "      <td>Senegal</td>\n",
              "      <td>29/10/14</td>\n",
              "      <td>0.0</td>\n",
              "      <td>0.0</td>\n",
              "      <td>1.0</td>\n",
              "      <td>1.0</td>\n",
              "      <td>0.0</td>\n",
              "      <td>0.0</td>\n",
              "      <td>0.0</td>\n",
              "      <td>0</td>\n",
              "    </tr>\n",
              "    <tr>\n",
              "      <th>101</th>\n",
              "      <td>Spain</td>\n",
              "      <td>29/10/14</td>\n",
              "      <td>0.0</td>\n",
              "      <td>0.0</td>\n",
              "      <td>1.0</td>\n",
              "      <td>1.0</td>\n",
              "      <td>0.0</td>\n",
              "      <td>0.0</td>\n",
              "      <td>0.0</td>\n",
              "      <td>0</td>\n",
              "    </tr>\n",
              "    <tr>\n",
              "      <th>102</th>\n",
              "      <td>Guinea</td>\n",
              "      <td>29/10/14</td>\n",
              "      <td>316.0</td>\n",
              "      <td>199.0</td>\n",
              "      <td>1391.0</td>\n",
              "      <td>1906.0</td>\n",
              "      <td>NaN</td>\n",
              "      <td>NaN</td>\n",
              "      <td>NaN</td>\n",
              "      <td>997</td>\n",
              "    </tr>\n",
              "    <tr>\n",
              "      <th>103</th>\n",
              "      <td>United States of America</td>\n",
              "      <td>29/10/14</td>\n",
              "      <td>0.0</td>\n",
              "      <td>0.0</td>\n",
              "      <td>4.0</td>\n",
              "      <td>4.0</td>\n",
              "      <td>0.0</td>\n",
              "      <td>0.0</td>\n",
              "      <td>1.0</td>\n",
              "      <td>1</td>\n",
              "    </tr>\n",
              "    <tr>\n",
              "      <th>104</th>\n",
              "      <td>Sierra Leone</td>\n",
              "      <td>29/10/14</td>\n",
              "      <td>1213.0</td>\n",
              "      <td>322.0</td>\n",
              "      <td>3700.0</td>\n",
              "      <td>5235.0</td>\n",
              "      <td>NaN</td>\n",
              "      <td>NaN</td>\n",
              "      <td>NaN</td>\n",
              "      <td>1500</td>\n",
              "    </tr>\n",
              "  </tbody>\n",
              "</table>\n",
              "</div>"
            ],
            "text/plain": [
              "                      Country  ... No. of confirmed, probable and suspected deaths\n",
              "100                   Senegal  ...                                               0\n",
              "101                     Spain  ...                                               0\n",
              "102                    Guinea  ...                                             997\n",
              "103  United States of America  ...                                               1\n",
              "104              Sierra Leone  ...                                            1500\n",
              "\n",
              "[5 rows x 10 columns]"
            ]
          },
          "metadata": {
            "tags": []
          },
          "execution_count": 39
        }
      ]
    },
    {
      "cell_type": "code",
      "metadata": {
        "id": "DGhl9oVekmh7",
        "colab_type": "code",
        "outputId": "21f6087e-ef8b-4395-bc0e-3bbfd14ddfbf",
        "colab": {
          "base_uri": "https://localhost:8080/",
          "height": 51
        }
      },
      "source": [
        "df.Country.values"
      ],
      "execution_count": 0,
      "outputs": [
        {
          "output_type": "execute_result",
          "data": {
            "text/plain": [
              "array(['Guinea', 'Nigeria', 'Sierra Leone', ..., 'Liberia', 'Nigeria',\n",
              "       'United States of America'], dtype=object)"
            ]
          },
          "metadata": {
            "tags": []
          },
          "execution_count": 40
        }
      ]
    },
    {
      "cell_type": "code",
      "metadata": {
        "id": "-vOcWUPSko6R",
        "colab_type": "code",
        "outputId": "9a2261d7-7e41-4752-ab79-0b723bcfe0ad",
        "colab": {
          "base_uri": "https://localhost:8080/",
          "height": 68
        }
      },
      "source": [
        "df.Country.unique()"
      ],
      "execution_count": 0,
      "outputs": [
        {
          "output_type": "execute_result",
          "data": {
            "text/plain": [
              "array(['Guinea', 'Nigeria', 'Sierra Leone', 'Liberia', 'Senegal',\n",
              "       'United States of America', 'Spain', 'Mali', 'United Kingdom',\n",
              "       'Italy'], dtype=object)"
            ]
          },
          "metadata": {
            "tags": []
          },
          "execution_count": 41
        }
      ]
    },
    {
      "cell_type": "code",
      "metadata": {
        "id": "qpq569E_lMJJ",
        "colab_type": "code",
        "outputId": "82c40b70-11e1-4384-b000-777b944bfa7e",
        "colab": {
          "base_uri": "https://localhost:8080/",
          "height": 204
        }
      },
      "source": [
        "df.Country.value_counts()"
      ],
      "execution_count": 0,
      "outputs": [
        {
          "output_type": "execute_result",
          "data": {
            "text/plain": [
              "Liberia                     365\n",
              "Sierra Leone                259\n",
              "Guinea                      259\n",
              "Nigeria                     255\n",
              "Senegal                     254\n",
              "United States of America    245\n",
              "Spain                       243\n",
              "Mali                        243\n",
              "United Kingdom              221\n",
              "Italy                       141\n",
              "Name: Country, dtype: int64"
            ]
          },
          "metadata": {
            "tags": []
          },
          "execution_count": 42
        }
      ]
    },
    {
      "cell_type": "code",
      "metadata": {
        "id": "at7rpyEylVBD",
        "colab_type": "code",
        "outputId": "b93d51e4-d9fa-41a2-a3ac-6877d65360ef",
        "colab": {
          "base_uri": "https://localhost:8080/",
          "height": 210
        }
      },
      "source": [
        "\n",
        "df.agg(['count', 'size', 'nunique'])"
      ],
      "execution_count": 0,
      "outputs": [
        {
          "output_type": "execute_result",
          "data": {
            "text/html": [
              "<div>\n",
              "<style scoped>\n",
              "    .dataframe tbody tr th:only-of-type {\n",
              "        vertical-align: middle;\n",
              "    }\n",
              "\n",
              "    .dataframe tbody tr th {\n",
              "        vertical-align: top;\n",
              "    }\n",
              "\n",
              "    .dataframe thead th {\n",
              "        text-align: right;\n",
              "    }\n",
              "</style>\n",
              "<table border=\"1\" class=\"dataframe\">\n",
              "  <thead>\n",
              "    <tr style=\"text-align: right;\">\n",
              "      <th></th>\n",
              "      <th>Country</th>\n",
              "      <th>Date</th>\n",
              "      <th>No. of suspected cases</th>\n",
              "      <th>No. of probable cases</th>\n",
              "      <th>No. of confirmed cases</th>\n",
              "      <th>No. of confirmed, probable and suspected cases</th>\n",
              "      <th>No. of suspected deaths</th>\n",
              "      <th>No. of probable deaths</th>\n",
              "      <th>No. of confirmed deaths</th>\n",
              "      <th>No. of confirmed, probable and suspected deaths</th>\n",
              "    </tr>\n",
              "  </thead>\n",
              "  <tbody>\n",
              "    <tr>\n",
              "      <th>count</th>\n",
              "      <td>2485</td>\n",
              "      <td>2485</td>\n",
              "      <td>2366</td>\n",
              "      <td>2436</td>\n",
              "      <td>2484</td>\n",
              "      <td>2477</td>\n",
              "      <td>1308</td>\n",
              "      <td>1526</td>\n",
              "      <td>1648</td>\n",
              "      <td>2485</td>\n",
              "    </tr>\n",
              "    <tr>\n",
              "      <th>size</th>\n",
              "      <td>2485</td>\n",
              "      <td>2485</td>\n",
              "      <td>2485</td>\n",
              "      <td>2485</td>\n",
              "      <td>2485</td>\n",
              "      <td>2485</td>\n",
              "      <td>2485</td>\n",
              "      <td>2485</td>\n",
              "      <td>2485</td>\n",
              "      <td>2485</td>\n",
              "    </tr>\n",
              "    <tr>\n",
              "      <th>nunique</th>\n",
              "      <td>10</td>\n",
              "      <td>259</td>\n",
              "      <td>311</td>\n",
              "      <td>103</td>\n",
              "      <td>343</td>\n",
              "      <td>435</td>\n",
              "      <td>29</td>\n",
              "      <td>75</td>\n",
              "      <td>284</td>\n",
              "      <td>341</td>\n",
              "    </tr>\n",
              "  </tbody>\n",
              "</table>\n",
              "</div>"
            ],
            "text/plain": [
              "         Country  ...  No. of confirmed, probable and suspected deaths\n",
              "count       2485  ...                                             2485\n",
              "size        2485  ...                                             2485\n",
              "nunique       10  ...                                              341\n",
              "\n",
              "[3 rows x 10 columns]"
            ]
          },
          "metadata": {
            "tags": []
          },
          "execution_count": 44
        }
      ]
    },
    {
      "cell_type": "code",
      "metadata": {
        "id": "Qu6AntAjl2Yd",
        "colab_type": "code",
        "outputId": "01e53b71-011e-44f2-fd69-e2465568609f",
        "colab": {
          "base_uri": "https://localhost:8080/",
          "height": 1000
        }
      },
      "source": [
        "df.groupby('Country').agg(['count', 'size', 'nunique']).stack()"
      ],
      "execution_count": 0,
      "outputs": [
        {
          "output_type": "execute_result",
          "data": {
            "text/html": [
              "<div>\n",
              "<style scoped>\n",
              "    .dataframe tbody tr th:only-of-type {\n",
              "        vertical-align: middle;\n",
              "    }\n",
              "\n",
              "    .dataframe tbody tr th {\n",
              "        vertical-align: top;\n",
              "    }\n",
              "\n",
              "    .dataframe thead th {\n",
              "        text-align: right;\n",
              "    }\n",
              "</style>\n",
              "<table border=\"1\" class=\"dataframe\">\n",
              "  <thead>\n",
              "    <tr style=\"text-align: right;\">\n",
              "      <th></th>\n",
              "      <th></th>\n",
              "      <th>Date</th>\n",
              "      <th>No. of suspected cases</th>\n",
              "      <th>No. of probable cases</th>\n",
              "      <th>No. of confirmed cases</th>\n",
              "      <th>No. of confirmed, probable and suspected cases</th>\n",
              "      <th>No. of suspected deaths</th>\n",
              "      <th>No. of probable deaths</th>\n",
              "      <th>No. of confirmed deaths</th>\n",
              "      <th>No. of confirmed, probable and suspected deaths</th>\n",
              "    </tr>\n",
              "    <tr>\n",
              "      <th>Country</th>\n",
              "      <th></th>\n",
              "      <th></th>\n",
              "      <th></th>\n",
              "      <th></th>\n",
              "      <th></th>\n",
              "      <th></th>\n",
              "      <th></th>\n",
              "      <th></th>\n",
              "      <th></th>\n",
              "      <th></th>\n",
              "    </tr>\n",
              "  </thead>\n",
              "  <tbody>\n",
              "    <tr>\n",
              "      <th rowspan=\"3\" valign=\"top\">Guinea</th>\n",
              "      <th>count</th>\n",
              "      <td>259</td>\n",
              "      <td>259</td>\n",
              "      <td>259</td>\n",
              "      <td>259</td>\n",
              "      <td>259</td>\n",
              "      <td>40</td>\n",
              "      <td>257</td>\n",
              "      <td>257</td>\n",
              "      <td>259</td>\n",
              "    </tr>\n",
              "    <tr>\n",
              "      <th>size</th>\n",
              "      <td>259</td>\n",
              "      <td>259</td>\n",
              "      <td>259</td>\n",
              "      <td>259</td>\n",
              "      <td>259</td>\n",
              "      <td>259</td>\n",
              "      <td>259</td>\n",
              "      <td>259</td>\n",
              "      <td>259</td>\n",
              "    </tr>\n",
              "    <tr>\n",
              "      <th>nunique</th>\n",
              "      <td>259</td>\n",
              "      <td>52</td>\n",
              "      <td>49</td>\n",
              "      <td>156</td>\n",
              "      <td>156</td>\n",
              "      <td>6</td>\n",
              "      <td>51</td>\n",
              "      <td>146</td>\n",
              "      <td>152</td>\n",
              "    </tr>\n",
              "    <tr>\n",
              "      <th rowspan=\"3\" valign=\"top\">Italy</th>\n",
              "      <th>count</th>\n",
              "      <td>141</td>\n",
              "      <td>141</td>\n",
              "      <td>141</td>\n",
              "      <td>141</td>\n",
              "      <td>141</td>\n",
              "      <td>1</td>\n",
              "      <td>1</td>\n",
              "      <td>1</td>\n",
              "      <td>141</td>\n",
              "    </tr>\n",
              "    <tr>\n",
              "      <th>size</th>\n",
              "      <td>141</td>\n",
              "      <td>141</td>\n",
              "      <td>141</td>\n",
              "      <td>141</td>\n",
              "      <td>141</td>\n",
              "      <td>141</td>\n",
              "      <td>141</td>\n",
              "      <td>141</td>\n",
              "      <td>141</td>\n",
              "    </tr>\n",
              "    <tr>\n",
              "      <th>nunique</th>\n",
              "      <td>141</td>\n",
              "      <td>1</td>\n",
              "      <td>1</td>\n",
              "      <td>1</td>\n",
              "      <td>1</td>\n",
              "      <td>1</td>\n",
              "      <td>1</td>\n",
              "      <td>1</td>\n",
              "      <td>1</td>\n",
              "    </tr>\n",
              "    <tr>\n",
              "      <th rowspan=\"3\" valign=\"top\">Liberia</th>\n",
              "      <th>count</th>\n",
              "      <td>365</td>\n",
              "      <td>260</td>\n",
              "      <td>330</td>\n",
              "      <td>364</td>\n",
              "      <td>365</td>\n",
              "      <td>16</td>\n",
              "      <td>17</td>\n",
              "      <td>125</td>\n",
              "      <td>365</td>\n",
              "    </tr>\n",
              "    <tr>\n",
              "      <th>size</th>\n",
              "      <td>365</td>\n",
              "      <td>365</td>\n",
              "      <td>365</td>\n",
              "      <td>365</td>\n",
              "      <td>365</td>\n",
              "      <td>365</td>\n",
              "      <td>365</td>\n",
              "      <td>365</td>\n",
              "      <td>365</td>\n",
              "    </tr>\n",
              "    <tr>\n",
              "      <th>nunique</th>\n",
              "      <td>259</td>\n",
              "      <td>69</td>\n",
              "      <td>49</td>\n",
              "      <td>50</td>\n",
              "      <td>74</td>\n",
              "      <td>15</td>\n",
              "      <td>16</td>\n",
              "      <td>19</td>\n",
              "      <td>71</td>\n",
              "    </tr>\n",
              "    <tr>\n",
              "      <th rowspan=\"3\" valign=\"top\">Mali</th>\n",
              "      <th>count</th>\n",
              "      <td>243</td>\n",
              "      <td>242</td>\n",
              "      <td>242</td>\n",
              "      <td>243</td>\n",
              "      <td>239</td>\n",
              "      <td>8</td>\n",
              "      <td>8</td>\n",
              "      <td>9</td>\n",
              "      <td>243</td>\n",
              "    </tr>\n",
              "    <tr>\n",
              "      <th>size</th>\n",
              "      <td>243</td>\n",
              "      <td>243</td>\n",
              "      <td>243</td>\n",
              "      <td>243</td>\n",
              "      <td>243</td>\n",
              "      <td>243</td>\n",
              "      <td>243</td>\n",
              "      <td>243</td>\n",
              "      <td>243</td>\n",
              "    </tr>\n",
              "    <tr>\n",
              "      <th>nunique</th>\n",
              "      <td>243</td>\n",
              "      <td>2</td>\n",
              "      <td>3</td>\n",
              "      <td>5</td>\n",
              "      <td>4</td>\n",
              "      <td>1</td>\n",
              "      <td>3</td>\n",
              "      <td>4</td>\n",
              "      <td>5</td>\n",
              "    </tr>\n",
              "    <tr>\n",
              "      <th rowspan=\"3\" valign=\"top\">Nigeria</th>\n",
              "      <th>count</th>\n",
              "      <td>255</td>\n",
              "      <td>255</td>\n",
              "      <td>255</td>\n",
              "      <td>255</td>\n",
              "      <td>255</td>\n",
              "      <td>255</td>\n",
              "      <td>255</td>\n",
              "      <td>255</td>\n",
              "      <td>255</td>\n",
              "    </tr>\n",
              "    <tr>\n",
              "      <th>size</th>\n",
              "      <td>255</td>\n",
              "      <td>255</td>\n",
              "      <td>255</td>\n",
              "      <td>255</td>\n",
              "      <td>255</td>\n",
              "      <td>255</td>\n",
              "      <td>255</td>\n",
              "      <td>255</td>\n",
              "      <td>255</td>\n",
              "    </tr>\n",
              "    <tr>\n",
              "      <th>nunique</th>\n",
              "      <td>255</td>\n",
              "      <td>3</td>\n",
              "      <td>1</td>\n",
              "      <td>3</td>\n",
              "      <td>4</td>\n",
              "      <td>1</td>\n",
              "      <td>1</td>\n",
              "      <td>2</td>\n",
              "      <td>2</td>\n",
              "    </tr>\n",
              "    <tr>\n",
              "      <th rowspan=\"3\" valign=\"top\">Senegal</th>\n",
              "      <th>count</th>\n",
              "      <td>254</td>\n",
              "      <td>253</td>\n",
              "      <td>253</td>\n",
              "      <td>254</td>\n",
              "      <td>254</td>\n",
              "      <td>253</td>\n",
              "      <td>253</td>\n",
              "      <td>254</td>\n",
              "      <td>254</td>\n",
              "    </tr>\n",
              "    <tr>\n",
              "      <th>size</th>\n",
              "      <td>254</td>\n",
              "      <td>254</td>\n",
              "      <td>254</td>\n",
              "      <td>254</td>\n",
              "      <td>254</td>\n",
              "      <td>254</td>\n",
              "      <td>254</td>\n",
              "      <td>254</td>\n",
              "      <td>254</td>\n",
              "    </tr>\n",
              "    <tr>\n",
              "      <th>nunique</th>\n",
              "      <td>254</td>\n",
              "      <td>2</td>\n",
              "      <td>1</td>\n",
              "      <td>1</td>\n",
              "      <td>2</td>\n",
              "      <td>1</td>\n",
              "      <td>1</td>\n",
              "      <td>1</td>\n",
              "      <td>1</td>\n",
              "    </tr>\n",
              "    <tr>\n",
              "      <th rowspan=\"3\" valign=\"top\">Sierra Leone</th>\n",
              "      <th>count</th>\n",
              "      <td>259</td>\n",
              "      <td>259</td>\n",
              "      <td>259</td>\n",
              "      <td>259</td>\n",
              "      <td>259</td>\n",
              "      <td>257</td>\n",
              "      <td>257</td>\n",
              "      <td>257</td>\n",
              "      <td>259</td>\n",
              "    </tr>\n",
              "    <tr>\n",
              "      <th>size</th>\n",
              "      <td>259</td>\n",
              "      <td>259</td>\n",
              "      <td>259</td>\n",
              "      <td>259</td>\n",
              "      <td>259</td>\n",
              "      <td>259</td>\n",
              "      <td>259</td>\n",
              "      <td>259</td>\n",
              "      <td>259</td>\n",
              "    </tr>\n",
              "    <tr>\n",
              "      <th>nunique</th>\n",
              "      <td>259</td>\n",
              "      <td>195</td>\n",
              "      <td>4</td>\n",
              "      <td>138</td>\n",
              "      <td>196</td>\n",
              "      <td>9</td>\n",
              "      <td>9</td>\n",
              "      <td>116</td>\n",
              "      <td>117</td>\n",
              "    </tr>\n",
              "    <tr>\n",
              "      <th rowspan=\"3\" valign=\"top\">Spain</th>\n",
              "      <th>count</th>\n",
              "      <td>243</td>\n",
              "      <td>238</td>\n",
              "      <td>238</td>\n",
              "      <td>243</td>\n",
              "      <td>243</td>\n",
              "      <td>238</td>\n",
              "      <td>238</td>\n",
              "      <td>243</td>\n",
              "      <td>243</td>\n",
              "    </tr>\n",
              "    <tr>\n",
              "      <th>size</th>\n",
              "      <td>243</td>\n",
              "      <td>243</td>\n",
              "      <td>243</td>\n",
              "      <td>243</td>\n",
              "      <td>243</td>\n",
              "      <td>243</td>\n",
              "      <td>243</td>\n",
              "      <td>243</td>\n",
              "      <td>243</td>\n",
              "    </tr>\n",
              "    <tr>\n",
              "      <th>nunique</th>\n",
              "      <td>243</td>\n",
              "      <td>1</td>\n",
              "      <td>1</td>\n",
              "      <td>1</td>\n",
              "      <td>1</td>\n",
              "      <td>1</td>\n",
              "      <td>1</td>\n",
              "      <td>1</td>\n",
              "      <td>1</td>\n",
              "    </tr>\n",
              "    <tr>\n",
              "      <th rowspan=\"3\" valign=\"top\">United Kingdom</th>\n",
              "      <th>count</th>\n",
              "      <td>221</td>\n",
              "      <td>221</td>\n",
              "      <td>221</td>\n",
              "      <td>221</td>\n",
              "      <td>217</td>\n",
              "      <td>2</td>\n",
              "      <td>2</td>\n",
              "      <td>2</td>\n",
              "      <td>221</td>\n",
              "    </tr>\n",
              "    <tr>\n",
              "      <th>size</th>\n",
              "      <td>221</td>\n",
              "      <td>221</td>\n",
              "      <td>221</td>\n",
              "      <td>221</td>\n",
              "      <td>221</td>\n",
              "      <td>221</td>\n",
              "      <td>221</td>\n",
              "      <td>221</td>\n",
              "      <td>221</td>\n",
              "    </tr>\n",
              "    <tr>\n",
              "      <th>nunique</th>\n",
              "      <td>221</td>\n",
              "      <td>1</td>\n",
              "      <td>1</td>\n",
              "      <td>1</td>\n",
              "      <td>2</td>\n",
              "      <td>1</td>\n",
              "      <td>1</td>\n",
              "      <td>1</td>\n",
              "      <td>1</td>\n",
              "    </tr>\n",
              "    <tr>\n",
              "      <th rowspan=\"3\" valign=\"top\">United States of America</th>\n",
              "      <th>count</th>\n",
              "      <td>245</td>\n",
              "      <td>238</td>\n",
              "      <td>238</td>\n",
              "      <td>245</td>\n",
              "      <td>245</td>\n",
              "      <td>238</td>\n",
              "      <td>238</td>\n",
              "      <td>245</td>\n",
              "      <td>245</td>\n",
              "    </tr>\n",
              "    <tr>\n",
              "      <th>size</th>\n",
              "      <td>245</td>\n",
              "      <td>245</td>\n",
              "      <td>245</td>\n",
              "      <td>245</td>\n",
              "      <td>245</td>\n",
              "      <td>245</td>\n",
              "      <td>245</td>\n",
              "      <td>245</td>\n",
              "      <td>245</td>\n",
              "    </tr>\n",
              "    <tr>\n",
              "      <th>nunique</th>\n",
              "      <td>245</td>\n",
              "      <td>1</td>\n",
              "      <td>1</td>\n",
              "      <td>4</td>\n",
              "      <td>4</td>\n",
              "      <td>1</td>\n",
              "      <td>1</td>\n",
              "      <td>2</td>\n",
              "      <td>2</td>\n",
              "    </tr>\n",
              "  </tbody>\n",
              "</table>\n",
              "</div>"
            ],
            "text/plain": [
              "                                  Date  ...  No. of confirmed, probable and suspected deaths\n",
              "Country                                 ...                                                 \n",
              "Guinea                   count     259  ...                                              259\n",
              "                         size      259  ...                                              259\n",
              "                         nunique   259  ...                                              152\n",
              "Italy                    count     141  ...                                              141\n",
              "                         size      141  ...                                              141\n",
              "                         nunique   141  ...                                                1\n",
              "Liberia                  count     365  ...                                              365\n",
              "                         size      365  ...                                              365\n",
              "                         nunique   259  ...                                               71\n",
              "Mali                     count     243  ...                                              243\n",
              "                         size      243  ...                                              243\n",
              "                         nunique   243  ...                                                5\n",
              "Nigeria                  count     255  ...                                              255\n",
              "                         size      255  ...                                              255\n",
              "                         nunique   255  ...                                                2\n",
              "Senegal                  count     254  ...                                              254\n",
              "                         size      254  ...                                              254\n",
              "                         nunique   254  ...                                                1\n",
              "Sierra Leone             count     259  ...                                              259\n",
              "                         size      259  ...                                              259\n",
              "                         nunique   259  ...                                              117\n",
              "Spain                    count     243  ...                                              243\n",
              "                         size      243  ...                                              243\n",
              "                         nunique   243  ...                                                1\n",
              "United Kingdom           count     221  ...                                              221\n",
              "                         size      221  ...                                              221\n",
              "                         nunique   221  ...                                                1\n",
              "United States of America count     245  ...                                              245\n",
              "                         size      245  ...                                              245\n",
              "                         nunique   245  ...                                                2\n",
              "\n",
              "[30 rows x 9 columns]"
            ]
          },
          "metadata": {
            "tags": []
          },
          "execution_count": 45
        }
      ]
    },
    {
      "cell_type": "code",
      "metadata": {
        "id": "l7dhVNcnl9KU",
        "colab_type": "code",
        "outputId": "0e3ff520-e450-40b5-96ea-9605c0e2d2af",
        "colab": {
          "base_uri": "https://localhost:8080/",
          "height": 543
        }
      },
      "source": [
        "df.groupby('Country').agg(['count', 'size', 'nunique'])"
      ],
      "execution_count": 0,
      "outputs": [
        {
          "output_type": "execute_result",
          "data": {
            "text/html": [
              "<div>\n",
              "<style scoped>\n",
              "    .dataframe tbody tr th:only-of-type {\n",
              "        vertical-align: middle;\n",
              "    }\n",
              "\n",
              "    .dataframe tbody tr th {\n",
              "        vertical-align: top;\n",
              "    }\n",
              "\n",
              "    .dataframe thead tr th {\n",
              "        text-align: left;\n",
              "    }\n",
              "\n",
              "    .dataframe thead tr:last-of-type th {\n",
              "        text-align: right;\n",
              "    }\n",
              "</style>\n",
              "<table border=\"1\" class=\"dataframe\">\n",
              "  <thead>\n",
              "    <tr>\n",
              "      <th></th>\n",
              "      <th colspan=\"3\" halign=\"left\">Date</th>\n",
              "      <th colspan=\"3\" halign=\"left\">No. of suspected cases</th>\n",
              "      <th colspan=\"3\" halign=\"left\">No. of probable cases</th>\n",
              "      <th colspan=\"3\" halign=\"left\">No. of confirmed cases</th>\n",
              "      <th colspan=\"3\" halign=\"left\">No. of confirmed, probable and suspected cases</th>\n",
              "      <th colspan=\"3\" halign=\"left\">No. of suspected deaths</th>\n",
              "      <th colspan=\"3\" halign=\"left\">No. of probable deaths</th>\n",
              "      <th colspan=\"3\" halign=\"left\">No. of confirmed deaths</th>\n",
              "      <th colspan=\"3\" halign=\"left\">No. of confirmed, probable and suspected deaths</th>\n",
              "    </tr>\n",
              "    <tr>\n",
              "      <th></th>\n",
              "      <th>count</th>\n",
              "      <th>size</th>\n",
              "      <th>nunique</th>\n",
              "      <th>count</th>\n",
              "      <th>size</th>\n",
              "      <th>nunique</th>\n",
              "      <th>count</th>\n",
              "      <th>size</th>\n",
              "      <th>nunique</th>\n",
              "      <th>count</th>\n",
              "      <th>size</th>\n",
              "      <th>nunique</th>\n",
              "      <th>count</th>\n",
              "      <th>size</th>\n",
              "      <th>nunique</th>\n",
              "      <th>count</th>\n",
              "      <th>size</th>\n",
              "      <th>nunique</th>\n",
              "      <th>count</th>\n",
              "      <th>size</th>\n",
              "      <th>nunique</th>\n",
              "      <th>count</th>\n",
              "      <th>size</th>\n",
              "      <th>nunique</th>\n",
              "      <th>count</th>\n",
              "      <th>size</th>\n",
              "      <th>nunique</th>\n",
              "    </tr>\n",
              "    <tr>\n",
              "      <th>Country</th>\n",
              "      <th></th>\n",
              "      <th></th>\n",
              "      <th></th>\n",
              "      <th></th>\n",
              "      <th></th>\n",
              "      <th></th>\n",
              "      <th></th>\n",
              "      <th></th>\n",
              "      <th></th>\n",
              "      <th></th>\n",
              "      <th></th>\n",
              "      <th></th>\n",
              "      <th></th>\n",
              "      <th></th>\n",
              "      <th></th>\n",
              "      <th></th>\n",
              "      <th></th>\n",
              "      <th></th>\n",
              "      <th></th>\n",
              "      <th></th>\n",
              "      <th></th>\n",
              "      <th></th>\n",
              "      <th></th>\n",
              "      <th></th>\n",
              "      <th></th>\n",
              "      <th></th>\n",
              "      <th></th>\n",
              "    </tr>\n",
              "  </thead>\n",
              "  <tbody>\n",
              "    <tr>\n",
              "      <th>Guinea</th>\n",
              "      <td>259</td>\n",
              "      <td>259</td>\n",
              "      <td>259</td>\n",
              "      <td>259</td>\n",
              "      <td>259</td>\n",
              "      <td>52</td>\n",
              "      <td>259</td>\n",
              "      <td>259</td>\n",
              "      <td>49</td>\n",
              "      <td>259</td>\n",
              "      <td>259</td>\n",
              "      <td>156</td>\n",
              "      <td>259</td>\n",
              "      <td>259</td>\n",
              "      <td>156</td>\n",
              "      <td>40</td>\n",
              "      <td>259</td>\n",
              "      <td>6</td>\n",
              "      <td>257</td>\n",
              "      <td>259</td>\n",
              "      <td>51</td>\n",
              "      <td>257</td>\n",
              "      <td>259</td>\n",
              "      <td>146</td>\n",
              "      <td>259</td>\n",
              "      <td>259</td>\n",
              "      <td>152</td>\n",
              "    </tr>\n",
              "    <tr>\n",
              "      <th>Italy</th>\n",
              "      <td>141</td>\n",
              "      <td>141</td>\n",
              "      <td>141</td>\n",
              "      <td>141</td>\n",
              "      <td>141</td>\n",
              "      <td>1</td>\n",
              "      <td>141</td>\n",
              "      <td>141</td>\n",
              "      <td>1</td>\n",
              "      <td>141</td>\n",
              "      <td>141</td>\n",
              "      <td>1</td>\n",
              "      <td>141</td>\n",
              "      <td>141</td>\n",
              "      <td>1</td>\n",
              "      <td>1</td>\n",
              "      <td>141</td>\n",
              "      <td>1</td>\n",
              "      <td>1</td>\n",
              "      <td>141</td>\n",
              "      <td>1</td>\n",
              "      <td>1</td>\n",
              "      <td>141</td>\n",
              "      <td>1</td>\n",
              "      <td>141</td>\n",
              "      <td>141</td>\n",
              "      <td>1</td>\n",
              "    </tr>\n",
              "    <tr>\n",
              "      <th>Liberia</th>\n",
              "      <td>365</td>\n",
              "      <td>365</td>\n",
              "      <td>259</td>\n",
              "      <td>260</td>\n",
              "      <td>365</td>\n",
              "      <td>69</td>\n",
              "      <td>330</td>\n",
              "      <td>365</td>\n",
              "      <td>49</td>\n",
              "      <td>364</td>\n",
              "      <td>365</td>\n",
              "      <td>50</td>\n",
              "      <td>365</td>\n",
              "      <td>365</td>\n",
              "      <td>74</td>\n",
              "      <td>16</td>\n",
              "      <td>365</td>\n",
              "      <td>15</td>\n",
              "      <td>17</td>\n",
              "      <td>365</td>\n",
              "      <td>16</td>\n",
              "      <td>125</td>\n",
              "      <td>365</td>\n",
              "      <td>19</td>\n",
              "      <td>365</td>\n",
              "      <td>365</td>\n",
              "      <td>71</td>\n",
              "    </tr>\n",
              "    <tr>\n",
              "      <th>Mali</th>\n",
              "      <td>243</td>\n",
              "      <td>243</td>\n",
              "      <td>243</td>\n",
              "      <td>242</td>\n",
              "      <td>243</td>\n",
              "      <td>2</td>\n",
              "      <td>242</td>\n",
              "      <td>243</td>\n",
              "      <td>3</td>\n",
              "      <td>243</td>\n",
              "      <td>243</td>\n",
              "      <td>5</td>\n",
              "      <td>239</td>\n",
              "      <td>243</td>\n",
              "      <td>4</td>\n",
              "      <td>8</td>\n",
              "      <td>243</td>\n",
              "      <td>1</td>\n",
              "      <td>8</td>\n",
              "      <td>243</td>\n",
              "      <td>3</td>\n",
              "      <td>9</td>\n",
              "      <td>243</td>\n",
              "      <td>4</td>\n",
              "      <td>243</td>\n",
              "      <td>243</td>\n",
              "      <td>5</td>\n",
              "    </tr>\n",
              "    <tr>\n",
              "      <th>Nigeria</th>\n",
              "      <td>255</td>\n",
              "      <td>255</td>\n",
              "      <td>255</td>\n",
              "      <td>255</td>\n",
              "      <td>255</td>\n",
              "      <td>3</td>\n",
              "      <td>255</td>\n",
              "      <td>255</td>\n",
              "      <td>1</td>\n",
              "      <td>255</td>\n",
              "      <td>255</td>\n",
              "      <td>3</td>\n",
              "      <td>255</td>\n",
              "      <td>255</td>\n",
              "      <td>4</td>\n",
              "      <td>255</td>\n",
              "      <td>255</td>\n",
              "      <td>1</td>\n",
              "      <td>255</td>\n",
              "      <td>255</td>\n",
              "      <td>1</td>\n",
              "      <td>255</td>\n",
              "      <td>255</td>\n",
              "      <td>2</td>\n",
              "      <td>255</td>\n",
              "      <td>255</td>\n",
              "      <td>2</td>\n",
              "    </tr>\n",
              "    <tr>\n",
              "      <th>Senegal</th>\n",
              "      <td>254</td>\n",
              "      <td>254</td>\n",
              "      <td>254</td>\n",
              "      <td>253</td>\n",
              "      <td>254</td>\n",
              "      <td>2</td>\n",
              "      <td>253</td>\n",
              "      <td>254</td>\n",
              "      <td>1</td>\n",
              "      <td>254</td>\n",
              "      <td>254</td>\n",
              "      <td>1</td>\n",
              "      <td>254</td>\n",
              "      <td>254</td>\n",
              "      <td>2</td>\n",
              "      <td>253</td>\n",
              "      <td>254</td>\n",
              "      <td>1</td>\n",
              "      <td>253</td>\n",
              "      <td>254</td>\n",
              "      <td>1</td>\n",
              "      <td>254</td>\n",
              "      <td>254</td>\n",
              "      <td>1</td>\n",
              "      <td>254</td>\n",
              "      <td>254</td>\n",
              "      <td>1</td>\n",
              "    </tr>\n",
              "    <tr>\n",
              "      <th>Sierra Leone</th>\n",
              "      <td>259</td>\n",
              "      <td>259</td>\n",
              "      <td>259</td>\n",
              "      <td>259</td>\n",
              "      <td>259</td>\n",
              "      <td>195</td>\n",
              "      <td>259</td>\n",
              "      <td>259</td>\n",
              "      <td>4</td>\n",
              "      <td>259</td>\n",
              "      <td>259</td>\n",
              "      <td>138</td>\n",
              "      <td>259</td>\n",
              "      <td>259</td>\n",
              "      <td>196</td>\n",
              "      <td>257</td>\n",
              "      <td>259</td>\n",
              "      <td>9</td>\n",
              "      <td>257</td>\n",
              "      <td>259</td>\n",
              "      <td>9</td>\n",
              "      <td>257</td>\n",
              "      <td>259</td>\n",
              "      <td>116</td>\n",
              "      <td>259</td>\n",
              "      <td>259</td>\n",
              "      <td>117</td>\n",
              "    </tr>\n",
              "    <tr>\n",
              "      <th>Spain</th>\n",
              "      <td>243</td>\n",
              "      <td>243</td>\n",
              "      <td>243</td>\n",
              "      <td>238</td>\n",
              "      <td>243</td>\n",
              "      <td>1</td>\n",
              "      <td>238</td>\n",
              "      <td>243</td>\n",
              "      <td>1</td>\n",
              "      <td>243</td>\n",
              "      <td>243</td>\n",
              "      <td>1</td>\n",
              "      <td>243</td>\n",
              "      <td>243</td>\n",
              "      <td>1</td>\n",
              "      <td>238</td>\n",
              "      <td>243</td>\n",
              "      <td>1</td>\n",
              "      <td>238</td>\n",
              "      <td>243</td>\n",
              "      <td>1</td>\n",
              "      <td>243</td>\n",
              "      <td>243</td>\n",
              "      <td>1</td>\n",
              "      <td>243</td>\n",
              "      <td>243</td>\n",
              "      <td>1</td>\n",
              "    </tr>\n",
              "    <tr>\n",
              "      <th>United Kingdom</th>\n",
              "      <td>221</td>\n",
              "      <td>221</td>\n",
              "      <td>221</td>\n",
              "      <td>221</td>\n",
              "      <td>221</td>\n",
              "      <td>1</td>\n",
              "      <td>221</td>\n",
              "      <td>221</td>\n",
              "      <td>1</td>\n",
              "      <td>221</td>\n",
              "      <td>221</td>\n",
              "      <td>1</td>\n",
              "      <td>217</td>\n",
              "      <td>221</td>\n",
              "      <td>2</td>\n",
              "      <td>2</td>\n",
              "      <td>221</td>\n",
              "      <td>1</td>\n",
              "      <td>2</td>\n",
              "      <td>221</td>\n",
              "      <td>1</td>\n",
              "      <td>2</td>\n",
              "      <td>221</td>\n",
              "      <td>1</td>\n",
              "      <td>221</td>\n",
              "      <td>221</td>\n",
              "      <td>1</td>\n",
              "    </tr>\n",
              "    <tr>\n",
              "      <th>United States of America</th>\n",
              "      <td>245</td>\n",
              "      <td>245</td>\n",
              "      <td>245</td>\n",
              "      <td>238</td>\n",
              "      <td>245</td>\n",
              "      <td>1</td>\n",
              "      <td>238</td>\n",
              "      <td>245</td>\n",
              "      <td>1</td>\n",
              "      <td>245</td>\n",
              "      <td>245</td>\n",
              "      <td>4</td>\n",
              "      <td>245</td>\n",
              "      <td>245</td>\n",
              "      <td>4</td>\n",
              "      <td>238</td>\n",
              "      <td>245</td>\n",
              "      <td>1</td>\n",
              "      <td>238</td>\n",
              "      <td>245</td>\n",
              "      <td>1</td>\n",
              "      <td>245</td>\n",
              "      <td>245</td>\n",
              "      <td>2</td>\n",
              "      <td>245</td>\n",
              "      <td>245</td>\n",
              "      <td>2</td>\n",
              "    </tr>\n",
              "  </tbody>\n",
              "</table>\n",
              "</div>"
            ],
            "text/plain": [
              "                          Date       ... No. of confirmed, probable and suspected deaths        \n",
              "                         count size  ...                                            size nunique\n",
              "Country                              ...                                                        \n",
              "Guinea                     259  259  ...                                             259     152\n",
              "Italy                      141  141  ...                                             141       1\n",
              "Liberia                    365  365  ...                                             365      71\n",
              "Mali                       243  243  ...                                             243       5\n",
              "Nigeria                    255  255  ...                                             255       2\n",
              "Senegal                    254  254  ...                                             254       1\n",
              "Sierra Leone               259  259  ...                                             259     117\n",
              "Spain                      243  243  ...                                             243       1\n",
              "United Kingdom             221  221  ...                                             221       1\n",
              "United States of America   245  245  ...                                             245       2\n",
              "\n",
              "[10 rows x 27 columns]"
            ]
          },
          "metadata": {
            "tags": []
          },
          "execution_count": 46
        }
      ]
    },
    {
      "cell_type": "code",
      "metadata": {
        "id": "zywR6pxwmJcO",
        "colab_type": "code",
        "outputId": "b31d92b9-4eba-4338-b847-f2e101ca3ce5",
        "colab": {
          "base_uri": "https://localhost:8080/",
          "height": 323
        }
      },
      "source": [
        "df_sample = df.sample(frac=0.05, random_state=1)\n",
        "df_sample.head()"
      ],
      "execution_count": 0,
      "outputs": [
        {
          "output_type": "execute_result",
          "data": {
            "text/html": [
              "<div>\n",
              "<style scoped>\n",
              "    .dataframe tbody tr th:only-of-type {\n",
              "        vertical-align: middle;\n",
              "    }\n",
              "\n",
              "    .dataframe tbody tr th {\n",
              "        vertical-align: top;\n",
              "    }\n",
              "\n",
              "    .dataframe thead th {\n",
              "        text-align: right;\n",
              "    }\n",
              "</style>\n",
              "<table border=\"1\" class=\"dataframe\">\n",
              "  <thead>\n",
              "    <tr style=\"text-align: right;\">\n",
              "      <th></th>\n",
              "      <th>Country</th>\n",
              "      <th>Date</th>\n",
              "      <th>No. of suspected cases</th>\n",
              "      <th>No. of probable cases</th>\n",
              "      <th>No. of confirmed cases</th>\n",
              "      <th>No. of confirmed, probable and suspected cases</th>\n",
              "      <th>No. of suspected deaths</th>\n",
              "      <th>No. of probable deaths</th>\n",
              "      <th>No. of confirmed deaths</th>\n",
              "      <th>No. of confirmed, probable and suspected deaths</th>\n",
              "    </tr>\n",
              "  </thead>\n",
              "  <tbody>\n",
              "    <tr>\n",
              "      <th>664</th>\n",
              "      <td>Liberia</td>\n",
              "      <td>13/03/15</td>\n",
              "      <td>4453.0</td>\n",
              "      <td>1879.0</td>\n",
              "      <td>3150.0</td>\n",
              "      <td>9482.0</td>\n",
              "      <td>NaN</td>\n",
              "      <td>NaN</td>\n",
              "      <td>NaN</td>\n",
              "      <td>4241</td>\n",
              "    </tr>\n",
              "    <tr>\n",
              "      <th>608</th>\n",
              "      <td>Senegal</td>\n",
              "      <td>02/03/15</td>\n",
              "      <td>0.0</td>\n",
              "      <td>0.0</td>\n",
              "      <td>1.0</td>\n",
              "      <td>1.0</td>\n",
              "      <td>0.0</td>\n",
              "      <td>0.0</td>\n",
              "      <td>0.0</td>\n",
              "      <td>0</td>\n",
              "    </tr>\n",
              "    <tr>\n",
              "      <th>304</th>\n",
              "      <td>Sierra Leone</td>\n",
              "      <td>08/01/15</td>\n",
              "      <td>1984.0</td>\n",
              "      <td>287.0</td>\n",
              "      <td>7759.0</td>\n",
              "      <td>10030.0</td>\n",
              "      <td>158.0</td>\n",
              "      <td>208.0</td>\n",
              "      <td>2611.0</td>\n",
              "      <td>2977</td>\n",
              "    </tr>\n",
              "    <tr>\n",
              "      <th>2205</th>\n",
              "      <td>Mali</td>\n",
              "      <td>29/10/15</td>\n",
              "      <td>0.0</td>\n",
              "      <td>1.0</td>\n",
              "      <td>7.0</td>\n",
              "      <td>8.0</td>\n",
              "      <td>NaN</td>\n",
              "      <td>NaN</td>\n",
              "      <td>NaN</td>\n",
              "      <td>6</td>\n",
              "    </tr>\n",
              "    <tr>\n",
              "      <th>587</th>\n",
              "      <td>United States of America</td>\n",
              "      <td>26/02/15</td>\n",
              "      <td>0.0</td>\n",
              "      <td>0.0</td>\n",
              "      <td>4.0</td>\n",
              "      <td>4.0</td>\n",
              "      <td>0.0</td>\n",
              "      <td>0.0</td>\n",
              "      <td>1.0</td>\n",
              "      <td>1</td>\n",
              "    </tr>\n",
              "  </tbody>\n",
              "</table>\n",
              "</div>"
            ],
            "text/plain": [
              "                       Country  ... No. of confirmed, probable and suspected deaths\n",
              "664                    Liberia  ...                                            4241\n",
              "608                    Senegal  ...                                               0\n",
              "304               Sierra Leone  ...                                            2977\n",
              "2205                      Mali  ...                                               6\n",
              "587   United States of America  ...                                               1\n",
              "\n",
              "[5 rows x 10 columns]"
            ]
          },
          "metadata": {
            "tags": []
          },
          "execution_count": 47
        }
      ]
    },
    {
      "cell_type": "code",
      "metadata": {
        "id": "UvlxtiRrmd05",
        "colab_type": "code",
        "outputId": "a103a235-385c-440c-ba75-3c255a1aeac8",
        "colab": {
          "base_uri": "https://localhost:8080/",
          "height": 34
        }
      },
      "source": [
        "df.shape"
      ],
      "execution_count": 0,
      "outputs": [
        {
          "output_type": "execute_result",
          "data": {
            "text/plain": [
              "(2485, 10)"
            ]
          },
          "metadata": {
            "tags": []
          },
          "execution_count": 48
        }
      ]
    },
    {
      "cell_type": "code",
      "metadata": {
        "id": "D28TxknAmluS",
        "colab_type": "code",
        "outputId": "26204062-a119-4924-ea0c-f2e74b6a53f4",
        "colab": {
          "base_uri": "https://localhost:8080/",
          "height": 34
        }
      },
      "source": [
        "\n",
        "df_sample.shape"
      ],
      "execution_count": 0,
      "outputs": [
        {
          "output_type": "execute_result",
          "data": {
            "text/plain": [
              "(124, 10)"
            ]
          },
          "metadata": {
            "tags": []
          },
          "execution_count": 49
        }
      ]
    },
    {
      "cell_type": "code",
      "metadata": {
        "id": "KAKHWurwmppR",
        "colab_type": "code",
        "outputId": "5307592e-92a6-43b7-e793-d70c4f89b512",
        "colab": {
          "base_uri": "https://localhost:8080/",
          "height": 272
        }
      },
      "source": [
        "df_dropped = df.dropna(subset=['No. of confirmed cases'])\n",
        "df_dropped.head()"
      ],
      "execution_count": 0,
      "outputs": [
        {
          "output_type": "execute_result",
          "data": {
            "text/html": [
              "<div>\n",
              "<style scoped>\n",
              "    .dataframe tbody tr th:only-of-type {\n",
              "        vertical-align: middle;\n",
              "    }\n",
              "\n",
              "    .dataframe tbody tr th {\n",
              "        vertical-align: top;\n",
              "    }\n",
              "\n",
              "    .dataframe thead th {\n",
              "        text-align: right;\n",
              "    }\n",
              "</style>\n",
              "<table border=\"1\" class=\"dataframe\">\n",
              "  <thead>\n",
              "    <tr style=\"text-align: right;\">\n",
              "      <th></th>\n",
              "      <th>Country</th>\n",
              "      <th>Date</th>\n",
              "      <th>No. of suspected cases</th>\n",
              "      <th>No. of probable cases</th>\n",
              "      <th>No. of confirmed cases</th>\n",
              "      <th>No. of confirmed, probable and suspected cases</th>\n",
              "      <th>No. of suspected deaths</th>\n",
              "      <th>No. of probable deaths</th>\n",
              "      <th>No. of confirmed deaths</th>\n",
              "      <th>No. of confirmed, probable and suspected deaths</th>\n",
              "    </tr>\n",
              "  </thead>\n",
              "  <tbody>\n",
              "    <tr>\n",
              "      <th>0</th>\n",
              "      <td>Guinea</td>\n",
              "      <td>29/08/14</td>\n",
              "      <td>25.0</td>\n",
              "      <td>141.0</td>\n",
              "      <td>482.0</td>\n",
              "      <td>648.0</td>\n",
              "      <td>2.0</td>\n",
              "      <td>141.0</td>\n",
              "      <td>287.0</td>\n",
              "      <td>430</td>\n",
              "    </tr>\n",
              "    <tr>\n",
              "      <th>1</th>\n",
              "      <td>Nigeria</td>\n",
              "      <td>29/08/14</td>\n",
              "      <td>3.0</td>\n",
              "      <td>1.0</td>\n",
              "      <td>15.0</td>\n",
              "      <td>19.0</td>\n",
              "      <td>0.0</td>\n",
              "      <td>1.0</td>\n",
              "      <td>6.0</td>\n",
              "      <td>7</td>\n",
              "    </tr>\n",
              "    <tr>\n",
              "      <th>2</th>\n",
              "      <td>Sierra Leone</td>\n",
              "      <td>29/08/14</td>\n",
              "      <td>54.0</td>\n",
              "      <td>37.0</td>\n",
              "      <td>935.0</td>\n",
              "      <td>1026.0</td>\n",
              "      <td>8.0</td>\n",
              "      <td>34.0</td>\n",
              "      <td>380.0</td>\n",
              "      <td>422</td>\n",
              "    </tr>\n",
              "    <tr>\n",
              "      <th>3</th>\n",
              "      <td>Liberia</td>\n",
              "      <td>29/08/14</td>\n",
              "      <td>382.0</td>\n",
              "      <td>674.0</td>\n",
              "      <td>322.0</td>\n",
              "      <td>1378.0</td>\n",
              "      <td>168.0</td>\n",
              "      <td>301.0</td>\n",
              "      <td>225.0</td>\n",
              "      <td>694</td>\n",
              "    </tr>\n",
              "    <tr>\n",
              "      <th>4</th>\n",
              "      <td>Sierra Leone</td>\n",
              "      <td>05/09/14</td>\n",
              "      <td>78.0</td>\n",
              "      <td>37.0</td>\n",
              "      <td>1146.0</td>\n",
              "      <td>1261.0</td>\n",
              "      <td>11.0</td>\n",
              "      <td>37.0</td>\n",
              "      <td>443.0</td>\n",
              "      <td>491</td>\n",
              "    </tr>\n",
              "  </tbody>\n",
              "</table>\n",
              "</div>"
            ],
            "text/plain": [
              "        Country  ... No. of confirmed, probable and suspected deaths\n",
              "0        Guinea  ...                                             430\n",
              "1       Nigeria  ...                                               7\n",
              "2  Sierra Leone  ...                                             422\n",
              "3       Liberia  ...                                             694\n",
              "4  Sierra Leone  ...                                             491\n",
              "\n",
              "[5 rows x 10 columns]"
            ]
          },
          "metadata": {
            "tags": []
          },
          "execution_count": 50
        }
      ]
    },
    {
      "cell_type": "code",
      "metadata": {
        "id": "ffkfQol9nWIO",
        "colab_type": "code",
        "outputId": "1fa930e4-2b34-4aa9-83c6-b7fecea7f3aa",
        "colab": {
          "base_uri": "https://localhost:8080/",
          "height": 34
        }
      },
      "source": [
        "df_dropped.shape"
      ],
      "execution_count": 0,
      "outputs": [
        {
          "output_type": "execute_result",
          "data": {
            "text/plain": [
              "(2484, 10)"
            ]
          },
          "metadata": {
            "tags": []
          },
          "execution_count": 51
        }
      ]
    },
    {
      "cell_type": "code",
      "metadata": {
        "id": "UeGBtclnndZw",
        "colab_type": "code",
        "outputId": "351be98f-ccbd-4de7-d2c6-552503f3a418",
        "colab": {
          "base_uri": "https://localhost:8080/",
          "height": 272
        }
      },
      "source": [
        "df_copy = df.copy()\n",
        "df_copy.head()"
      ],
      "execution_count": 0,
      "outputs": [
        {
          "output_type": "execute_result",
          "data": {
            "text/html": [
              "<div>\n",
              "<style scoped>\n",
              "    .dataframe tbody tr th:only-of-type {\n",
              "        vertical-align: middle;\n",
              "    }\n",
              "\n",
              "    .dataframe tbody tr th {\n",
              "        vertical-align: top;\n",
              "    }\n",
              "\n",
              "    .dataframe thead th {\n",
              "        text-align: right;\n",
              "    }\n",
              "</style>\n",
              "<table border=\"1\" class=\"dataframe\">\n",
              "  <thead>\n",
              "    <tr style=\"text-align: right;\">\n",
              "      <th></th>\n",
              "      <th>Country</th>\n",
              "      <th>Date</th>\n",
              "      <th>No. of suspected cases</th>\n",
              "      <th>No. of probable cases</th>\n",
              "      <th>No. of confirmed cases</th>\n",
              "      <th>No. of confirmed, probable and suspected cases</th>\n",
              "      <th>No. of suspected deaths</th>\n",
              "      <th>No. of probable deaths</th>\n",
              "      <th>No. of confirmed deaths</th>\n",
              "      <th>No. of confirmed, probable and suspected deaths</th>\n",
              "    </tr>\n",
              "  </thead>\n",
              "  <tbody>\n",
              "    <tr>\n",
              "      <th>0</th>\n",
              "      <td>Guinea</td>\n",
              "      <td>29/08/14</td>\n",
              "      <td>25.0</td>\n",
              "      <td>141.0</td>\n",
              "      <td>482.0</td>\n",
              "      <td>648.0</td>\n",
              "      <td>2.0</td>\n",
              "      <td>141.0</td>\n",
              "      <td>287.0</td>\n",
              "      <td>430</td>\n",
              "    </tr>\n",
              "    <tr>\n",
              "      <th>1</th>\n",
              "      <td>Nigeria</td>\n",
              "      <td>29/08/14</td>\n",
              "      <td>3.0</td>\n",
              "      <td>1.0</td>\n",
              "      <td>15.0</td>\n",
              "      <td>19.0</td>\n",
              "      <td>0.0</td>\n",
              "      <td>1.0</td>\n",
              "      <td>6.0</td>\n",
              "      <td>7</td>\n",
              "    </tr>\n",
              "    <tr>\n",
              "      <th>2</th>\n",
              "      <td>Sierra Leone</td>\n",
              "      <td>29/08/14</td>\n",
              "      <td>54.0</td>\n",
              "      <td>37.0</td>\n",
              "      <td>935.0</td>\n",
              "      <td>1026.0</td>\n",
              "      <td>8.0</td>\n",
              "      <td>34.0</td>\n",
              "      <td>380.0</td>\n",
              "      <td>422</td>\n",
              "    </tr>\n",
              "    <tr>\n",
              "      <th>3</th>\n",
              "      <td>Liberia</td>\n",
              "      <td>29/08/14</td>\n",
              "      <td>382.0</td>\n",
              "      <td>674.0</td>\n",
              "      <td>322.0</td>\n",
              "      <td>1378.0</td>\n",
              "      <td>168.0</td>\n",
              "      <td>301.0</td>\n",
              "      <td>225.0</td>\n",
              "      <td>694</td>\n",
              "    </tr>\n",
              "    <tr>\n",
              "      <th>4</th>\n",
              "      <td>Sierra Leone</td>\n",
              "      <td>05/09/14</td>\n",
              "      <td>78.0</td>\n",
              "      <td>37.0</td>\n",
              "      <td>1146.0</td>\n",
              "      <td>1261.0</td>\n",
              "      <td>11.0</td>\n",
              "      <td>37.0</td>\n",
              "      <td>443.0</td>\n",
              "      <td>491</td>\n",
              "    </tr>\n",
              "  </tbody>\n",
              "</table>\n",
              "</div>"
            ],
            "text/plain": [
              "        Country  ... No. of confirmed, probable and suspected deaths\n",
              "0        Guinea  ...                                             430\n",
              "1       Nigeria  ...                                               7\n",
              "2  Sierra Leone  ...                                             422\n",
              "3       Liberia  ...                                             694\n",
              "4  Sierra Leone  ...                                             491\n",
              "\n",
              "[5 rows x 10 columns]"
            ]
          },
          "metadata": {
            "tags": []
          },
          "execution_count": 52
        }
      ]
    },
    {
      "cell_type": "code",
      "metadata": {
        "id": "aqV5qog_neAm",
        "colab_type": "code",
        "outputId": "0328bec2-7c4b-4f7c-c9a2-58c56c849ee6",
        "colab": {
          "base_uri": "https://localhost:8080/",
          "height": 34
        }
      },
      "source": [
        "df_copy.shape\n"
      ],
      "execution_count": 0,
      "outputs": [
        {
          "output_type": "execute_result",
          "data": {
            "text/plain": [
              "(2485, 10)"
            ]
          },
          "metadata": {
            "tags": []
          },
          "execution_count": 53
        }
      ]
    },
    {
      "cell_type": "code",
      "metadata": {
        "id": "P7TPbm9SnrVf",
        "colab_type": "code",
        "outputId": "14b18b36-c5e8-4c97-d0f3-5c6f1a013abe",
        "colab": {
          "base_uri": "https://localhost:8080/",
          "height": 34
        }
      },
      "source": [
        "df_dropped['No. of suspected cases'].dtype"
      ],
      "execution_count": 0,
      "outputs": [
        {
          "output_type": "execute_result",
          "data": {
            "text/plain": [
              "dtype('float64')"
            ]
          },
          "metadata": {
            "tags": []
          },
          "execution_count": 54
        }
      ]
    },
    {
      "cell_type": "code",
      "metadata": {
        "id": "LBjfA5cwnrTg",
        "colab_type": "code",
        "outputId": "79e937d5-07d7-4666-d226-ea7fd8580296",
        "colab": {
          "base_uri": "https://localhost:8080/",
          "height": 34
        }
      },
      "source": [
        "df_dropped['No. of suspected cases'].mean()"
      ],
      "execution_count": 0,
      "outputs": [
        {
          "output_type": "execute_result",
          "data": {
            "text/plain": [
              "891.841504649197"
            ]
          },
          "metadata": {
            "tags": []
          },
          "execution_count": 56
        }
      ]
    },
    {
      "cell_type": "code",
      "metadata": {
        "id": "Thbi9eVpoaOf",
        "colab_type": "code",
        "colab": {}
      },
      "source": [
        "df_copy['No. of suspected cases'].fillna(value=np.round(df['No. of suspected cases'].mean(),decimals=0), inplace=True)"
      ],
      "execution_count": 0,
      "outputs": []
    },
    {
      "cell_type": "code",
      "metadata": {
        "id": "Hqx0vOfGoqV5",
        "colab_type": "code",
        "outputId": "60d505e2-67fb-4f76-af50-b7ddfa32c170",
        "colab": {
          "base_uri": "https://localhost:8080/",
          "height": 210
        }
      },
      "source": [
        "df_copy.agg(['count', 'size', 'nunique'])"
      ],
      "execution_count": 0,
      "outputs": [
        {
          "output_type": "execute_result",
          "data": {
            "text/html": [
              "<div>\n",
              "<style scoped>\n",
              "    .dataframe tbody tr th:only-of-type {\n",
              "        vertical-align: middle;\n",
              "    }\n",
              "\n",
              "    .dataframe tbody tr th {\n",
              "        vertical-align: top;\n",
              "    }\n",
              "\n",
              "    .dataframe thead th {\n",
              "        text-align: right;\n",
              "    }\n",
              "</style>\n",
              "<table border=\"1\" class=\"dataframe\">\n",
              "  <thead>\n",
              "    <tr style=\"text-align: right;\">\n",
              "      <th></th>\n",
              "      <th>Country</th>\n",
              "      <th>Date</th>\n",
              "      <th>No. of suspected cases</th>\n",
              "      <th>No. of probable cases</th>\n",
              "      <th>No. of confirmed cases</th>\n",
              "      <th>No. of confirmed, probable and suspected cases</th>\n",
              "      <th>No. of suspected deaths</th>\n",
              "      <th>No. of probable deaths</th>\n",
              "      <th>No. of confirmed deaths</th>\n",
              "      <th>No. of confirmed, probable and suspected deaths</th>\n",
              "    </tr>\n",
              "  </thead>\n",
              "  <tbody>\n",
              "    <tr>\n",
              "      <th>count</th>\n",
              "      <td>2485</td>\n",
              "      <td>2485</td>\n",
              "      <td>2485</td>\n",
              "      <td>2436</td>\n",
              "      <td>2484</td>\n",
              "      <td>2477</td>\n",
              "      <td>1308</td>\n",
              "      <td>1526</td>\n",
              "      <td>1648</td>\n",
              "      <td>2485</td>\n",
              "    </tr>\n",
              "    <tr>\n",
              "      <th>size</th>\n",
              "      <td>2485</td>\n",
              "      <td>2485</td>\n",
              "      <td>2485</td>\n",
              "      <td>2485</td>\n",
              "      <td>2485</td>\n",
              "      <td>2485</td>\n",
              "      <td>2485</td>\n",
              "      <td>2485</td>\n",
              "      <td>2485</td>\n",
              "      <td>2485</td>\n",
              "    </tr>\n",
              "    <tr>\n",
              "      <th>nunique</th>\n",
              "      <td>10</td>\n",
              "      <td>259</td>\n",
              "      <td>312</td>\n",
              "      <td>103</td>\n",
              "      <td>343</td>\n",
              "      <td>435</td>\n",
              "      <td>29</td>\n",
              "      <td>75</td>\n",
              "      <td>284</td>\n",
              "      <td>341</td>\n",
              "    </tr>\n",
              "  </tbody>\n",
              "</table>\n",
              "</div>"
            ],
            "text/plain": [
              "         Country  ...  No. of confirmed, probable and suspected deaths\n",
              "count       2485  ...                                             2485\n",
              "size        2485  ...                                             2485\n",
              "nunique       10  ...                                              341\n",
              "\n",
              "[3 rows x 10 columns]"
            ]
          },
          "metadata": {
            "tags": []
          },
          "execution_count": 59
        }
      ]
    },
    {
      "cell_type": "code",
      "metadata": {
        "id": "cjF4a77Ror3-",
        "colab_type": "code",
        "outputId": "e6c79b4a-ffb8-44a7-a048-34fa85237183",
        "colab": {
          "base_uri": "https://localhost:8080/",
          "height": 187
        }
      },
      "source": [
        "list(df['Country'].unique())"
      ],
      "execution_count": 0,
      "outputs": [
        {
          "output_type": "execute_result",
          "data": {
            "text/plain": [
              "['Guinea',\n",
              " 'Nigeria',\n",
              " 'Sierra Leone',\n",
              " 'Liberia',\n",
              " 'Senegal',\n",
              " 'United States of America',\n",
              " 'Spain',\n",
              " 'Mali',\n",
              " 'United Kingdom',\n",
              " 'Italy']"
            ]
          },
          "metadata": {
            "tags": []
          },
          "execution_count": 61
        }
      ]
    },
    {
      "cell_type": "code",
      "metadata": {
        "id": "hWn5lJdXpHWf",
        "colab_type": "code",
        "colab": {}
      },
      "source": [
        "df['Country'].replace({\"Guinea\":1,\n",
        "                       \"Nigeria\":2,\n",
        "                       \"Sierra Leone\":3,\n",
        "                       \"Liberia\":4,\n",
        "                       \"Senegal\":5,\n",
        "                       \"United States of America\":6,\n",
        "                       \"Spain\":7,\n",
        "                       \"Mali\":8,\n",
        "                       \"United Kingdom\":9,\n",
        "                       \"Italy\":9}, inplace=True)"
      ],
      "execution_count": 0,
      "outputs": []
    },
    {
      "cell_type": "code",
      "metadata": {
        "id": "fj8Hsz8gp7SO",
        "colab_type": "code",
        "outputId": "5ae349e0-10b4-41ed-f52c-6ac938970c1c",
        "colab": {
          "base_uri": "https://localhost:8080/",
          "height": 34
        }
      },
      "source": [
        "list(df['Country'].unique())"
      ],
      "execution_count": 0,
      "outputs": [
        {
          "output_type": "execute_result",
          "data": {
            "text/plain": [
              "[1, 2, 3, 4, 5, 6, 7, 8, 9]"
            ]
          },
          "metadata": {
            "tags": []
          },
          "execution_count": 64
        }
      ]
    },
    {
      "cell_type": "code",
      "metadata": {
        "id": "21694lhQqqxA",
        "colab_type": "code",
        "colab": {}
      },
      "source": [
        "df['Country'].replace({1:\"Guinea\",\n",
        "                       2:\"Nigeria\",\n",
        "                       3:\"Sierra Leone\",\n",
        "                       4:\"Liberia\",\n",
        "                       5:\"Senegal\",\n",
        "                       6:\"United States of America\",\n",
        "                       7:\"Spain\",\n",
        "                       8:\"Mali\",\n",
        "                       9:\"United Kingdom & Italy\"}, inplace=True)"
      ],
      "execution_count": 0,
      "outputs": []
    },
    {
      "cell_type": "code",
      "metadata": {
        "id": "nNyLZMgRqhcs",
        "colab_type": "code",
        "outputId": "33cffa85-ac5f-40fd-fe5e-bc24e4524ccb",
        "colab": {
          "base_uri": "https://localhost:8080/",
          "height": 153
        }
      },
      "source": [
        "keys = list(df['Country'].unique())\n",
        "vals = range(1,9)\n",
        "act = dict(zip(keys, vals))\n",
        "act"
      ],
      "execution_count": 0,
      "outputs": [
        {
          "output_type": "execute_result",
          "data": {
            "text/plain": [
              "{'Guinea': 1,\n",
              " 'Liberia': 4,\n",
              " 'Mali': 8,\n",
              " 'Nigeria': 2,\n",
              " 'Senegal': 5,\n",
              " 'Sierra Leone': 3,\n",
              " 'Spain': 7,\n",
              " 'United States of America': 6}"
            ]
          },
          "metadata": {
            "tags": []
          },
          "execution_count": 69
        }
      ]
    },
    {
      "cell_type": "code",
      "metadata": {
        "id": "xaBG-T7RrHj9",
        "colab_type": "code",
        "outputId": "ba79a61e-8118-4f7e-9a09-6a4ec0e44c91",
        "colab": {
          "base_uri": "https://localhost:8080/",
          "height": 323
        }
      },
      "source": [
        "df_copy['Country_act'] = df['Country'].map(act)\n",
        "df_copy.head()\n"
      ],
      "execution_count": 0,
      "outputs": [
        {
          "output_type": "execute_result",
          "data": {
            "text/html": [
              "<div>\n",
              "<style scoped>\n",
              "    .dataframe tbody tr th:only-of-type {\n",
              "        vertical-align: middle;\n",
              "    }\n",
              "\n",
              "    .dataframe tbody tr th {\n",
              "        vertical-align: top;\n",
              "    }\n",
              "\n",
              "    .dataframe thead th {\n",
              "        text-align: right;\n",
              "    }\n",
              "</style>\n",
              "<table border=\"1\" class=\"dataframe\">\n",
              "  <thead>\n",
              "    <tr style=\"text-align: right;\">\n",
              "      <th></th>\n",
              "      <th>Country</th>\n",
              "      <th>Date</th>\n",
              "      <th>No. of suspected cases</th>\n",
              "      <th>No. of probable cases</th>\n",
              "      <th>No. of confirmed cases</th>\n",
              "      <th>No. of confirmed, probable and suspected cases</th>\n",
              "      <th>No. of suspected deaths</th>\n",
              "      <th>No. of probable deaths</th>\n",
              "      <th>No. of confirmed deaths</th>\n",
              "      <th>No. of confirmed, probable and suspected deaths</th>\n",
              "      <th>Country_act</th>\n",
              "    </tr>\n",
              "  </thead>\n",
              "  <tbody>\n",
              "    <tr>\n",
              "      <th>0</th>\n",
              "      <td>Guinea</td>\n",
              "      <td>29/08/14</td>\n",
              "      <td>25.0</td>\n",
              "      <td>141.0</td>\n",
              "      <td>482.0</td>\n",
              "      <td>648.0</td>\n",
              "      <td>2.0</td>\n",
              "      <td>141.0</td>\n",
              "      <td>287.0</td>\n",
              "      <td>430</td>\n",
              "      <td>1.0</td>\n",
              "    </tr>\n",
              "    <tr>\n",
              "      <th>1</th>\n",
              "      <td>Nigeria</td>\n",
              "      <td>29/08/14</td>\n",
              "      <td>3.0</td>\n",
              "      <td>1.0</td>\n",
              "      <td>15.0</td>\n",
              "      <td>19.0</td>\n",
              "      <td>0.0</td>\n",
              "      <td>1.0</td>\n",
              "      <td>6.0</td>\n",
              "      <td>7</td>\n",
              "      <td>2.0</td>\n",
              "    </tr>\n",
              "    <tr>\n",
              "      <th>2</th>\n",
              "      <td>Sierra Leone</td>\n",
              "      <td>29/08/14</td>\n",
              "      <td>54.0</td>\n",
              "      <td>37.0</td>\n",
              "      <td>935.0</td>\n",
              "      <td>1026.0</td>\n",
              "      <td>8.0</td>\n",
              "      <td>34.0</td>\n",
              "      <td>380.0</td>\n",
              "      <td>422</td>\n",
              "      <td>3.0</td>\n",
              "    </tr>\n",
              "    <tr>\n",
              "      <th>3</th>\n",
              "      <td>Liberia</td>\n",
              "      <td>29/08/14</td>\n",
              "      <td>382.0</td>\n",
              "      <td>674.0</td>\n",
              "      <td>322.0</td>\n",
              "      <td>1378.0</td>\n",
              "      <td>168.0</td>\n",
              "      <td>301.0</td>\n",
              "      <td>225.0</td>\n",
              "      <td>694</td>\n",
              "      <td>4.0</td>\n",
              "    </tr>\n",
              "    <tr>\n",
              "      <th>4</th>\n",
              "      <td>Sierra Leone</td>\n",
              "      <td>05/09/14</td>\n",
              "      <td>78.0</td>\n",
              "      <td>37.0</td>\n",
              "      <td>1146.0</td>\n",
              "      <td>1261.0</td>\n",
              "      <td>11.0</td>\n",
              "      <td>37.0</td>\n",
              "      <td>443.0</td>\n",
              "      <td>491</td>\n",
              "      <td>3.0</td>\n",
              "    </tr>\n",
              "  </tbody>\n",
              "</table>\n",
              "</div>"
            ],
            "text/plain": [
              "        Country  ... Country_act\n",
              "0        Guinea  ...         1.0\n",
              "1       Nigeria  ...         2.0\n",
              "2  Sierra Leone  ...         3.0\n",
              "3       Liberia  ...         4.0\n",
              "4  Sierra Leone  ...         3.0\n",
              "\n",
              "[5 rows x 11 columns]"
            ]
          },
          "metadata": {
            "tags": []
          },
          "execution_count": 70
        }
      ]
    },
    {
      "cell_type": "code",
      "metadata": {
        "id": "Ca0P2jwArUZ8",
        "colab_type": "code",
        "outputId": "631cbd34-92bb-4c4f-d463-ba66626350c1",
        "colab": {
          "base_uri": "https://localhost:8080/",
          "height": 34
        }
      },
      "source": [
        "list(df_copy['Country_act'].unique())"
      ],
      "execution_count": 0,
      "outputs": [
        {
          "output_type": "execute_result",
          "data": {
            "text/plain": [
              "[1.0, 2.0, 3.0, 4.0, 5.0, 6.0, 7.0, 8.0, nan]"
            ]
          },
          "metadata": {
            "tags": []
          },
          "execution_count": 71
        }
      ]
    },
    {
      "cell_type": "code",
      "metadata": {
        "id": "vUX4uypdrlPt",
        "colab_type": "code",
        "outputId": "a813d097-69eb-491c-cdb9-676a7e4c9b48",
        "colab": {
          "base_uri": "https://localhost:8080/",
          "height": 34
        }
      },
      "source": [
        "#Data Summarization\n",
        "df_copy['No. of suspected cases'].mean()"
      ],
      "execution_count": 0,
      "outputs": [
        {
          "output_type": "execute_result",
          "data": {
            "text/plain": [
              "891.8490945674044"
            ]
          },
          "metadata": {
            "tags": []
          },
          "execution_count": 72
        }
      ]
    },
    {
      "cell_type": "code",
      "metadata": {
        "id": "ga-W9z7Jr2dy",
        "colab_type": "code",
        "outputId": "ae67b0bc-49d8-4624-c1df-6e5cad13e416",
        "colab": {
          "base_uri": "https://localhost:8080/",
          "height": 34
        }
      },
      "source": [
        "df_copy['No. of suspected cases'][df_copy['Country'] == 1 ]"
      ],
      "execution_count": 0,
      "outputs": [
        {
          "output_type": "execute_result",
          "data": {
            "text/plain": [
              "Series([], Name: No. of suspected cases, dtype: float64)"
            ]
          },
          "metadata": {
            "tags": []
          },
          "execution_count": 75
        }
      ]
    },
    {
      "cell_type": "code",
      "metadata": {
        "id": "5CVXKapSssCn",
        "colab_type": "code",
        "outputId": "ffb2305e-c36d-4ef8-f18e-aed6fdbd22d4",
        "colab": {
          "base_uri": "https://localhost:8080/",
          "height": 603
        }
      },
      "source": [
        "df_copy.groupby([\"Date\", \"Country\"]).count()"
      ],
      "execution_count": 0,
      "outputs": [
        {
          "output_type": "execute_result",
          "data": {
            "text/html": [
              "<div>\n",
              "<style scoped>\n",
              "    .dataframe tbody tr th:only-of-type {\n",
              "        vertical-align: middle;\n",
              "    }\n",
              "\n",
              "    .dataframe tbody tr th {\n",
              "        vertical-align: top;\n",
              "    }\n",
              "\n",
              "    .dataframe thead th {\n",
              "        text-align: right;\n",
              "    }\n",
              "</style>\n",
              "<table border=\"1\" class=\"dataframe\">\n",
              "  <thead>\n",
              "    <tr style=\"text-align: right;\">\n",
              "      <th></th>\n",
              "      <th></th>\n",
              "      <th>No. of suspected cases</th>\n",
              "      <th>No. of probable cases</th>\n",
              "      <th>No. of confirmed cases</th>\n",
              "      <th>No. of confirmed, probable and suspected cases</th>\n",
              "      <th>No. of suspected deaths</th>\n",
              "      <th>No. of probable deaths</th>\n",
              "      <th>No. of confirmed deaths</th>\n",
              "      <th>No. of confirmed, probable and suspected deaths</th>\n",
              "      <th>Country_act</th>\n",
              "    </tr>\n",
              "    <tr>\n",
              "      <th>Date</th>\n",
              "      <th>Country</th>\n",
              "      <th></th>\n",
              "      <th></th>\n",
              "      <th></th>\n",
              "      <th></th>\n",
              "      <th></th>\n",
              "      <th></th>\n",
              "      <th></th>\n",
              "      <th></th>\n",
              "      <th></th>\n",
              "    </tr>\n",
              "  </thead>\n",
              "  <tbody>\n",
              "    <tr>\n",
              "      <th rowspan=\"5\" valign=\"top\">01/05/15</th>\n",
              "      <th>Guinea</th>\n",
              "      <td>1</td>\n",
              "      <td>1</td>\n",
              "      <td>1</td>\n",
              "      <td>1</td>\n",
              "      <td>0</td>\n",
              "      <td>1</td>\n",
              "      <td>1</td>\n",
              "      <td>1</td>\n",
              "      <td>1</td>\n",
              "    </tr>\n",
              "    <tr>\n",
              "      <th>Liberia</th>\n",
              "      <td>1</td>\n",
              "      <td>1</td>\n",
              "      <td>1</td>\n",
              "      <td>1</td>\n",
              "      <td>0</td>\n",
              "      <td>0</td>\n",
              "      <td>0</td>\n",
              "      <td>1</td>\n",
              "      <td>1</td>\n",
              "    </tr>\n",
              "    <tr>\n",
              "      <th>Mali</th>\n",
              "      <td>1</td>\n",
              "      <td>1</td>\n",
              "      <td>1</td>\n",
              "      <td>1</td>\n",
              "      <td>0</td>\n",
              "      <td>0</td>\n",
              "      <td>0</td>\n",
              "      <td>1</td>\n",
              "      <td>1</td>\n",
              "    </tr>\n",
              "    <tr>\n",
              "      <th>Nigeria</th>\n",
              "      <td>1</td>\n",
              "      <td>1</td>\n",
              "      <td>1</td>\n",
              "      <td>1</td>\n",
              "      <td>1</td>\n",
              "      <td>1</td>\n",
              "      <td>1</td>\n",
              "      <td>1</td>\n",
              "      <td>1</td>\n",
              "    </tr>\n",
              "    <tr>\n",
              "      <th>Senegal</th>\n",
              "      <td>1</td>\n",
              "      <td>1</td>\n",
              "      <td>1</td>\n",
              "      <td>1</td>\n",
              "      <td>1</td>\n",
              "      <td>1</td>\n",
              "      <td>1</td>\n",
              "      <td>1</td>\n",
              "      <td>1</td>\n",
              "    </tr>\n",
              "    <tr>\n",
              "      <th>...</th>\n",
              "      <th>...</th>\n",
              "      <td>...</td>\n",
              "      <td>...</td>\n",
              "      <td>...</td>\n",
              "      <td>...</td>\n",
              "      <td>...</td>\n",
              "      <td>...</td>\n",
              "      <td>...</td>\n",
              "      <td>...</td>\n",
              "      <td>...</td>\n",
              "    </tr>\n",
              "    <tr>\n",
              "      <th rowspan=\"5\" valign=\"top\">31/12/14</th>\n",
              "      <th>Nigeria</th>\n",
              "      <td>1</td>\n",
              "      <td>1</td>\n",
              "      <td>1</td>\n",
              "      <td>1</td>\n",
              "      <td>1</td>\n",
              "      <td>1</td>\n",
              "      <td>1</td>\n",
              "      <td>1</td>\n",
              "      <td>1</td>\n",
              "    </tr>\n",
              "    <tr>\n",
              "      <th>Senegal</th>\n",
              "      <td>1</td>\n",
              "      <td>1</td>\n",
              "      <td>1</td>\n",
              "      <td>1</td>\n",
              "      <td>1</td>\n",
              "      <td>1</td>\n",
              "      <td>1</td>\n",
              "      <td>1</td>\n",
              "      <td>1</td>\n",
              "    </tr>\n",
              "    <tr>\n",
              "      <th>Sierra Leone</th>\n",
              "      <td>1</td>\n",
              "      <td>1</td>\n",
              "      <td>1</td>\n",
              "      <td>1</td>\n",
              "      <td>1</td>\n",
              "      <td>1</td>\n",
              "      <td>1</td>\n",
              "      <td>1</td>\n",
              "      <td>1</td>\n",
              "    </tr>\n",
              "    <tr>\n",
              "      <th>Spain</th>\n",
              "      <td>1</td>\n",
              "      <td>1</td>\n",
              "      <td>1</td>\n",
              "      <td>1</td>\n",
              "      <td>1</td>\n",
              "      <td>1</td>\n",
              "      <td>1</td>\n",
              "      <td>1</td>\n",
              "      <td>1</td>\n",
              "    </tr>\n",
              "    <tr>\n",
              "      <th>United States of America</th>\n",
              "      <td>1</td>\n",
              "      <td>1</td>\n",
              "      <td>1</td>\n",
              "      <td>1</td>\n",
              "      <td>1</td>\n",
              "      <td>1</td>\n",
              "      <td>1</td>\n",
              "      <td>1</td>\n",
              "      <td>1</td>\n",
              "    </tr>\n",
              "  </tbody>\n",
              "</table>\n",
              "<p>2379 rows × 9 columns</p>\n",
              "</div>"
            ],
            "text/plain": [
              "                                   No. of suspected cases  ...  Country_act\n",
              "Date     Country                                           ...             \n",
              "01/05/15 Guinea                                         1  ...            1\n",
              "         Liberia                                        1  ...            1\n",
              "         Mali                                           1  ...            1\n",
              "         Nigeria                                        1  ...            1\n",
              "         Senegal                                        1  ...            1\n",
              "...                                                   ...  ...          ...\n",
              "31/12/14 Nigeria                                        1  ...            1\n",
              "         Senegal                                        1  ...            1\n",
              "         Sierra Leone                                   1  ...            1\n",
              "         Spain                                          1  ...            1\n",
              "         United States of America                       1  ...            1\n",
              "\n",
              "[2379 rows x 9 columns]"
            ]
          },
          "metadata": {
            "tags": []
          },
          "execution_count": 76
        }
      ]
    },
    {
      "cell_type": "code",
      "metadata": {
        "id": "V0UlVDtPsynk",
        "colab_type": "code",
        "outputId": "6c7a5483-9535-48e0-e46c-48d5349534c4",
        "colab": {
          "base_uri": "https://localhost:8080/",
          "height": 450
        }
      },
      "source": [
        "\n",
        "df_copy.groupby([\"Date\", \"Country\"])[[\"No. of suspected cases\", \"No. of confirmed cases\"]].count()"
      ],
      "execution_count": 0,
      "outputs": [
        {
          "output_type": "execute_result",
          "data": {
            "text/html": [
              "<div>\n",
              "<style scoped>\n",
              "    .dataframe tbody tr th:only-of-type {\n",
              "        vertical-align: middle;\n",
              "    }\n",
              "\n",
              "    .dataframe tbody tr th {\n",
              "        vertical-align: top;\n",
              "    }\n",
              "\n",
              "    .dataframe thead th {\n",
              "        text-align: right;\n",
              "    }\n",
              "</style>\n",
              "<table border=\"1\" class=\"dataframe\">\n",
              "  <thead>\n",
              "    <tr style=\"text-align: right;\">\n",
              "      <th></th>\n",
              "      <th></th>\n",
              "      <th>No. of suspected cases</th>\n",
              "      <th>No. of confirmed cases</th>\n",
              "    </tr>\n",
              "    <tr>\n",
              "      <th>Date</th>\n",
              "      <th>Country</th>\n",
              "      <th></th>\n",
              "      <th></th>\n",
              "    </tr>\n",
              "  </thead>\n",
              "  <tbody>\n",
              "    <tr>\n",
              "      <th rowspan=\"5\" valign=\"top\">01/05/15</th>\n",
              "      <th>Guinea</th>\n",
              "      <td>1</td>\n",
              "      <td>1</td>\n",
              "    </tr>\n",
              "    <tr>\n",
              "      <th>Liberia</th>\n",
              "      <td>1</td>\n",
              "      <td>1</td>\n",
              "    </tr>\n",
              "    <tr>\n",
              "      <th>Mali</th>\n",
              "      <td>1</td>\n",
              "      <td>1</td>\n",
              "    </tr>\n",
              "    <tr>\n",
              "      <th>Nigeria</th>\n",
              "      <td>1</td>\n",
              "      <td>1</td>\n",
              "    </tr>\n",
              "    <tr>\n",
              "      <th>Senegal</th>\n",
              "      <td>1</td>\n",
              "      <td>1</td>\n",
              "    </tr>\n",
              "    <tr>\n",
              "      <th>...</th>\n",
              "      <th>...</th>\n",
              "      <td>...</td>\n",
              "      <td>...</td>\n",
              "    </tr>\n",
              "    <tr>\n",
              "      <th rowspan=\"5\" valign=\"top\">31/12/14</th>\n",
              "      <th>Nigeria</th>\n",
              "      <td>1</td>\n",
              "      <td>1</td>\n",
              "    </tr>\n",
              "    <tr>\n",
              "      <th>Senegal</th>\n",
              "      <td>1</td>\n",
              "      <td>1</td>\n",
              "    </tr>\n",
              "    <tr>\n",
              "      <th>Sierra Leone</th>\n",
              "      <td>1</td>\n",
              "      <td>1</td>\n",
              "    </tr>\n",
              "    <tr>\n",
              "      <th>Spain</th>\n",
              "      <td>1</td>\n",
              "      <td>1</td>\n",
              "    </tr>\n",
              "    <tr>\n",
              "      <th>United States of America</th>\n",
              "      <td>1</td>\n",
              "      <td>1</td>\n",
              "    </tr>\n",
              "  </tbody>\n",
              "</table>\n",
              "<p>2379 rows × 2 columns</p>\n",
              "</div>"
            ],
            "text/plain": [
              "                                   No. of suspected cases  No. of confirmed cases\n",
              "Date     Country                                                                 \n",
              "01/05/15 Guinea                                         1                       1\n",
              "         Liberia                                        1                       1\n",
              "         Mali                                           1                       1\n",
              "         Nigeria                                        1                       1\n",
              "         Senegal                                        1                       1\n",
              "...                                                   ...                     ...\n",
              "31/12/14 Nigeria                                        1                       1\n",
              "         Senegal                                        1                       1\n",
              "         Sierra Leone                                   1                       1\n",
              "         Spain                                          1                       1\n",
              "         United States of America                       1                       1\n",
              "\n",
              "[2379 rows x 2 columns]"
            ]
          },
          "metadata": {
            "tags": []
          },
          "execution_count": 77
        }
      ]
    },
    {
      "cell_type": "code",
      "metadata": {
        "id": "zeOcrIfttNAl",
        "colab_type": "code",
        "outputId": "b9cdd42a-46aa-48bb-9732-b9ff0a59921c",
        "colab": {
          "base_uri": "https://localhost:8080/",
          "height": 221
        }
      },
      "source": [
        "df_copy.Country"
      ],
      "execution_count": 0,
      "outputs": [
        {
          "output_type": "execute_result",
          "data": {
            "text/plain": [
              "0                         Guinea\n",
              "1                        Nigeria\n",
              "2                   Sierra Leone\n",
              "3                        Liberia\n",
              "4                   Sierra Leone\n",
              "                  ...           \n",
              "2480                     Liberia\n",
              "2481                       Italy\n",
              "2482                     Liberia\n",
              "2483                     Nigeria\n",
              "2484    United States of America\n",
              "Name: Country, Length: 2485, dtype: object"
            ]
          },
          "metadata": {
            "tags": []
          },
          "execution_count": 78
        }
      ]
    },
    {
      "cell_type": "code",
      "metadata": {
        "id": "KhdpSULbtU3t",
        "colab_type": "code",
        "outputId": "bcc061f2-acc6-44ec-c084-8a3d2eab68e1",
        "colab": {
          "base_uri": "https://localhost:8080/",
          "height": 323
        }
      },
      "source": [
        "df_sample = df.sample(frac=0.05, random_state=1)\n",
        "df_sample.head()"
      ],
      "execution_count": 0,
      "outputs": [
        {
          "output_type": "execute_result",
          "data": {
            "text/html": [
              "<div>\n",
              "<style scoped>\n",
              "    .dataframe tbody tr th:only-of-type {\n",
              "        vertical-align: middle;\n",
              "    }\n",
              "\n",
              "    .dataframe tbody tr th {\n",
              "        vertical-align: top;\n",
              "    }\n",
              "\n",
              "    .dataframe thead th {\n",
              "        text-align: right;\n",
              "    }\n",
              "</style>\n",
              "<table border=\"1\" class=\"dataframe\">\n",
              "  <thead>\n",
              "    <tr style=\"text-align: right;\">\n",
              "      <th></th>\n",
              "      <th>Country</th>\n",
              "      <th>Date</th>\n",
              "      <th>No. of suspected cases</th>\n",
              "      <th>No. of probable cases</th>\n",
              "      <th>No. of confirmed cases</th>\n",
              "      <th>No. of confirmed, probable and suspected cases</th>\n",
              "      <th>No. of suspected deaths</th>\n",
              "      <th>No. of probable deaths</th>\n",
              "      <th>No. of confirmed deaths</th>\n",
              "      <th>No. of confirmed, probable and suspected deaths</th>\n",
              "    </tr>\n",
              "  </thead>\n",
              "  <tbody>\n",
              "    <tr>\n",
              "      <th>664</th>\n",
              "      <td>Liberia</td>\n",
              "      <td>13/03/15</td>\n",
              "      <td>4453.0</td>\n",
              "      <td>1879.0</td>\n",
              "      <td>3150.0</td>\n",
              "      <td>9482.0</td>\n",
              "      <td>NaN</td>\n",
              "      <td>NaN</td>\n",
              "      <td>NaN</td>\n",
              "      <td>4241</td>\n",
              "    </tr>\n",
              "    <tr>\n",
              "      <th>608</th>\n",
              "      <td>Senegal</td>\n",
              "      <td>02/03/15</td>\n",
              "      <td>0.0</td>\n",
              "      <td>0.0</td>\n",
              "      <td>1.0</td>\n",
              "      <td>1.0</td>\n",
              "      <td>0.0</td>\n",
              "      <td>0.0</td>\n",
              "      <td>0.0</td>\n",
              "      <td>0</td>\n",
              "    </tr>\n",
              "    <tr>\n",
              "      <th>304</th>\n",
              "      <td>Sierra Leone</td>\n",
              "      <td>08/01/15</td>\n",
              "      <td>1984.0</td>\n",
              "      <td>287.0</td>\n",
              "      <td>7759.0</td>\n",
              "      <td>10030.0</td>\n",
              "      <td>158.0</td>\n",
              "      <td>208.0</td>\n",
              "      <td>2611.0</td>\n",
              "      <td>2977</td>\n",
              "    </tr>\n",
              "    <tr>\n",
              "      <th>2205</th>\n",
              "      <td>Mali</td>\n",
              "      <td>29/10/15</td>\n",
              "      <td>0.0</td>\n",
              "      <td>1.0</td>\n",
              "      <td>7.0</td>\n",
              "      <td>8.0</td>\n",
              "      <td>NaN</td>\n",
              "      <td>NaN</td>\n",
              "      <td>NaN</td>\n",
              "      <td>6</td>\n",
              "    </tr>\n",
              "    <tr>\n",
              "      <th>587</th>\n",
              "      <td>United States of America</td>\n",
              "      <td>26/02/15</td>\n",
              "      <td>0.0</td>\n",
              "      <td>0.0</td>\n",
              "      <td>4.0</td>\n",
              "      <td>4.0</td>\n",
              "      <td>0.0</td>\n",
              "      <td>0.0</td>\n",
              "      <td>1.0</td>\n",
              "      <td>1</td>\n",
              "    </tr>\n",
              "  </tbody>\n",
              "</table>\n",
              "</div>"
            ],
            "text/plain": [
              "                       Country  ... No. of confirmed, probable and suspected deaths\n",
              "664                    Liberia  ...                                            4241\n",
              "608                    Senegal  ...                                               0\n",
              "304               Sierra Leone  ...                                            2977\n",
              "2205                      Mali  ...                                               6\n",
              "587   United States of America  ...                                               1\n",
              "\n",
              "[5 rows x 10 columns]"
            ]
          },
          "metadata": {
            "tags": []
          },
          "execution_count": 79
        }
      ]
    },
    {
      "cell_type": "code",
      "metadata": {
        "id": "r_A7q-AVtY0r",
        "colab_type": "code",
        "outputId": "ab8593ea-3bd5-4528-e86d-27dedce6bd37",
        "colab": {
          "base_uri": "https://localhost:8080/",
          "height": 481
        }
      },
      "source": [
        "# variant-1: multiple aggregations on single attribute\n",
        "df_sample.groupby([\"Date\", \"Country\"])[[\"No. of confirmed cases\", \"No. of suspected deaths\"]].agg([np.sum, np.mean,\n",
        "                                                              np.count_nonzero])"
      ],
      "execution_count": 0,
      "outputs": [
        {
          "output_type": "execute_result",
          "data": {
            "text/html": [
              "<div>\n",
              "<style scoped>\n",
              "    .dataframe tbody tr th:only-of-type {\n",
              "        vertical-align: middle;\n",
              "    }\n",
              "\n",
              "    .dataframe tbody tr th {\n",
              "        vertical-align: top;\n",
              "    }\n",
              "\n",
              "    .dataframe thead tr th {\n",
              "        text-align: left;\n",
              "    }\n",
              "\n",
              "    .dataframe thead tr:last-of-type th {\n",
              "        text-align: right;\n",
              "    }\n",
              "</style>\n",
              "<table border=\"1\" class=\"dataframe\">\n",
              "  <thead>\n",
              "    <tr>\n",
              "      <th></th>\n",
              "      <th></th>\n",
              "      <th colspan=\"3\" halign=\"left\">No. of confirmed cases</th>\n",
              "      <th colspan=\"3\" halign=\"left\">No. of suspected deaths</th>\n",
              "    </tr>\n",
              "    <tr>\n",
              "      <th></th>\n",
              "      <th></th>\n",
              "      <th>sum</th>\n",
              "      <th>mean</th>\n",
              "      <th>count_nonzero</th>\n",
              "      <th>sum</th>\n",
              "      <th>mean</th>\n",
              "      <th>count_nonzero</th>\n",
              "    </tr>\n",
              "    <tr>\n",
              "      <th>Date</th>\n",
              "      <th>Country</th>\n",
              "      <th></th>\n",
              "      <th></th>\n",
              "      <th></th>\n",
              "      <th></th>\n",
              "      <th></th>\n",
              "      <th></th>\n",
              "    </tr>\n",
              "  </thead>\n",
              "  <tbody>\n",
              "    <tr>\n",
              "      <th>01/05/15</th>\n",
              "      <th>United States of America</th>\n",
              "      <td>4.0</td>\n",
              "      <td>4.0</td>\n",
              "      <td>1.0</td>\n",
              "      <td>0.0</td>\n",
              "      <td>0.0</td>\n",
              "      <td>0.0</td>\n",
              "    </tr>\n",
              "    <tr>\n",
              "      <th>01/07/15</th>\n",
              "      <th>United Kingdom &amp; Italy</th>\n",
              "      <td>1.0</td>\n",
              "      <td>1.0</td>\n",
              "      <td>1.0</td>\n",
              "      <td>0.0</td>\n",
              "      <td>NaN</td>\n",
              "      <td>1.0</td>\n",
              "    </tr>\n",
              "    <tr>\n",
              "      <th rowspan=\"2\" valign=\"top\">01/10/15</th>\n",
              "      <th>Guinea</th>\n",
              "      <td>3344.0</td>\n",
              "      <td>3344.0</td>\n",
              "      <td>1.0</td>\n",
              "      <td>0.0</td>\n",
              "      <td>NaN</td>\n",
              "      <td>1.0</td>\n",
              "    </tr>\n",
              "    <tr>\n",
              "      <th>Sierra Leone</th>\n",
              "      <td>8704.0</td>\n",
              "      <td>8704.0</td>\n",
              "      <td>1.0</td>\n",
              "      <td>158.0</td>\n",
              "      <td>158.0</td>\n",
              "      <td>1.0</td>\n",
              "    </tr>\n",
              "    <tr>\n",
              "      <th>02/02/15</th>\n",
              "      <th>Senegal</th>\n",
              "      <td>1.0</td>\n",
              "      <td>1.0</td>\n",
              "      <td>1.0</td>\n",
              "      <td>0.0</td>\n",
              "      <td>0.0</td>\n",
              "      <td>0.0</td>\n",
              "    </tr>\n",
              "    <tr>\n",
              "      <th>...</th>\n",
              "      <th>...</th>\n",
              "      <td>...</td>\n",
              "      <td>...</td>\n",
              "      <td>...</td>\n",
              "      <td>...</td>\n",
              "      <td>...</td>\n",
              "      <td>...</td>\n",
              "    </tr>\n",
              "    <tr>\n",
              "      <th rowspan=\"2\" valign=\"top\">30/06/15</th>\n",
              "      <th>Nigeria</th>\n",
              "      <td>19.0</td>\n",
              "      <td>19.0</td>\n",
              "      <td>1.0</td>\n",
              "      <td>0.0</td>\n",
              "      <td>0.0</td>\n",
              "      <td>0.0</td>\n",
              "    </tr>\n",
              "    <tr>\n",
              "      <th>United States of America</th>\n",
              "      <td>4.0</td>\n",
              "      <td>4.0</td>\n",
              "      <td>1.0</td>\n",
              "      <td>0.0</td>\n",
              "      <td>0.0</td>\n",
              "      <td>0.0</td>\n",
              "    </tr>\n",
              "    <tr>\n",
              "      <th>30/09/15</th>\n",
              "      <th>Nigeria</th>\n",
              "      <td>19.0</td>\n",
              "      <td>19.0</td>\n",
              "      <td>1.0</td>\n",
              "      <td>0.0</td>\n",
              "      <td>0.0</td>\n",
              "      <td>0.0</td>\n",
              "    </tr>\n",
              "    <tr>\n",
              "      <th rowspan=\"2\" valign=\"top\">31/10/14</th>\n",
              "      <th>Spain</th>\n",
              "      <td>1.0</td>\n",
              "      <td>1.0</td>\n",
              "      <td>1.0</td>\n",
              "      <td>0.0</td>\n",
              "      <td>0.0</td>\n",
              "      <td>0.0</td>\n",
              "    </tr>\n",
              "    <tr>\n",
              "      <th>United States of America</th>\n",
              "      <td>4.0</td>\n",
              "      <td>4.0</td>\n",
              "      <td>1.0</td>\n",
              "      <td>0.0</td>\n",
              "      <td>0.0</td>\n",
              "      <td>0.0</td>\n",
              "    </tr>\n",
              "  </tbody>\n",
              "</table>\n",
              "<p>124 rows × 6 columns</p>\n",
              "</div>"
            ],
            "text/plain": [
              "                                  No. of confirmed cases  ... No. of suspected deaths\n",
              "                                                     sum  ...           count_nonzero\n",
              "Date     Country                                          ...                        \n",
              "01/05/15 United States of America                    4.0  ...                     0.0\n",
              "01/07/15 United Kingdom & Italy                      1.0  ...                     1.0\n",
              "01/10/15 Guinea                                   3344.0  ...                     1.0\n",
              "         Sierra Leone                             8704.0  ...                     1.0\n",
              "02/02/15 Senegal                                     1.0  ...                     0.0\n",
              "...                                                  ...  ...                     ...\n",
              "30/06/15 Nigeria                                    19.0  ...                     0.0\n",
              "         United States of America                    4.0  ...                     0.0\n",
              "30/09/15 Nigeria                                    19.0  ...                     0.0\n",
              "31/10/14 Spain                                       1.0  ...                     0.0\n",
              "         United States of America                    4.0  ...                     0.0\n",
              "\n",
              "[124 rows x 6 columns]"
            ]
          },
          "metadata": {
            "tags": []
          },
          "execution_count": 80
        }
      ]
    },
    {
      "cell_type": "code",
      "metadata": {
        "id": "7EfJ2ZrFtmNH",
        "colab_type": "code",
        "outputId": "c9ae1d15-e6d0-4196-dca6-1de61c14a64d",
        "colab": {
          "base_uri": "https://localhost:8080/",
          "height": 450
        }
      },
      "source": [
        "\n",
        "# variant-2: different aggregation functions for each attribute \n",
        "\n",
        "df_sample.groupby([\"Date\", \"Country\"]).agg({'No. of confirmed cases':np.mean,'No. of suspected deaths':np.max})"
      ],
      "execution_count": 0,
      "outputs": [
        {
          "output_type": "execute_result",
          "data": {
            "text/html": [
              "<div>\n",
              "<style scoped>\n",
              "    .dataframe tbody tr th:only-of-type {\n",
              "        vertical-align: middle;\n",
              "    }\n",
              "\n",
              "    .dataframe tbody tr th {\n",
              "        vertical-align: top;\n",
              "    }\n",
              "\n",
              "    .dataframe thead th {\n",
              "        text-align: right;\n",
              "    }\n",
              "</style>\n",
              "<table border=\"1\" class=\"dataframe\">\n",
              "  <thead>\n",
              "    <tr style=\"text-align: right;\">\n",
              "      <th></th>\n",
              "      <th></th>\n",
              "      <th>No. of confirmed cases</th>\n",
              "      <th>No. of suspected deaths</th>\n",
              "    </tr>\n",
              "    <tr>\n",
              "      <th>Date</th>\n",
              "      <th>Country</th>\n",
              "      <th></th>\n",
              "      <th></th>\n",
              "    </tr>\n",
              "  </thead>\n",
              "  <tbody>\n",
              "    <tr>\n",
              "      <th>01/05/15</th>\n",
              "      <th>United States of America</th>\n",
              "      <td>4.0</td>\n",
              "      <td>0.0</td>\n",
              "    </tr>\n",
              "    <tr>\n",
              "      <th>01/07/15</th>\n",
              "      <th>United Kingdom &amp; Italy</th>\n",
              "      <td>1.0</td>\n",
              "      <td>NaN</td>\n",
              "    </tr>\n",
              "    <tr>\n",
              "      <th rowspan=\"2\" valign=\"top\">01/10/15</th>\n",
              "      <th>Guinea</th>\n",
              "      <td>3344.0</td>\n",
              "      <td>NaN</td>\n",
              "    </tr>\n",
              "    <tr>\n",
              "      <th>Sierra Leone</th>\n",
              "      <td>8704.0</td>\n",
              "      <td>158.0</td>\n",
              "    </tr>\n",
              "    <tr>\n",
              "      <th>02/02/15</th>\n",
              "      <th>Senegal</th>\n",
              "      <td>1.0</td>\n",
              "      <td>0.0</td>\n",
              "    </tr>\n",
              "    <tr>\n",
              "      <th>...</th>\n",
              "      <th>...</th>\n",
              "      <td>...</td>\n",
              "      <td>...</td>\n",
              "    </tr>\n",
              "    <tr>\n",
              "      <th rowspan=\"2\" valign=\"top\">30/06/15</th>\n",
              "      <th>Nigeria</th>\n",
              "      <td>19.0</td>\n",
              "      <td>0.0</td>\n",
              "    </tr>\n",
              "    <tr>\n",
              "      <th>United States of America</th>\n",
              "      <td>4.0</td>\n",
              "      <td>0.0</td>\n",
              "    </tr>\n",
              "    <tr>\n",
              "      <th>30/09/15</th>\n",
              "      <th>Nigeria</th>\n",
              "      <td>19.0</td>\n",
              "      <td>0.0</td>\n",
              "    </tr>\n",
              "    <tr>\n",
              "      <th rowspan=\"2\" valign=\"top\">31/10/14</th>\n",
              "      <th>Spain</th>\n",
              "      <td>1.0</td>\n",
              "      <td>0.0</td>\n",
              "    </tr>\n",
              "    <tr>\n",
              "      <th>United States of America</th>\n",
              "      <td>4.0</td>\n",
              "      <td>0.0</td>\n",
              "    </tr>\n",
              "  </tbody>\n",
              "</table>\n",
              "<p>124 rows × 2 columns</p>\n",
              "</div>"
            ],
            "text/plain": [
              "                                   No. of confirmed cases  No. of suspected deaths\n",
              "Date     Country                                                                  \n",
              "01/05/15 United States of America                     4.0                      0.0\n",
              "01/07/15 United Kingdom & Italy                       1.0                      NaN\n",
              "01/10/15 Guinea                                    3344.0                      NaN\n",
              "         Sierra Leone                              8704.0                    158.0\n",
              "02/02/15 Senegal                                      1.0                      0.0\n",
              "...                                                   ...                      ...\n",
              "30/06/15 Nigeria                                     19.0                      0.0\n",
              "         United States of America                     4.0                      0.0\n",
              "30/09/15 Nigeria                                     19.0                      0.0\n",
              "31/10/14 Spain                                        1.0                      0.0\n",
              "         United States of America                     4.0                      0.0\n",
              "\n",
              "[124 rows x 2 columns]"
            ]
          },
          "metadata": {
            "tags": []
          },
          "execution_count": 81
        }
      ]
    },
    {
      "cell_type": "code",
      "metadata": {
        "id": "MuMyuz7aykqC",
        "colab_type": "code",
        "outputId": "5de45fb7-5045-4074-b593-3260223a979e",
        "colab": {
          "base_uri": "https://localhost:8080/",
          "height": 293
        }
      },
      "source": [
        "#scaner plots #figure.savefig('.../.jpeg')\n",
        "#df_sample['ventas'] = dropna()\n",
        "df_sample['No. of confirmed, probable and suspected deaths'] = df_sample['No. of confirmed, probable and suspected deaths'].astype('int64')\n",
        "\n",
        "df_sample.plot(kind='scatter',x='No. of confirmed, probable and suspected deaths',y='No. of probable cases')"
      ],
      "execution_count": 0,
      "outputs": [
        {
          "output_type": "execute_result",
          "data": {
            "text/plain": [
              "<matplotlib.axes._subplots.AxesSubplot at 0x7f2964068668>"
            ]
          },
          "metadata": {
            "tags": []
          },
          "execution_count": 97
        },
        {
          "output_type": "display_data",
          "data": {
            "image/png": "[encoded data removed]",
            "text/plain": [
              "<Figure size 432x288 with 1 Axes>"
            ]
          },
          "metadata": {
            "tags": []
          }
        }
      ]
    },
    {
      "cell_type": "code",
      "metadata": {
        "id": "YL2eCpONwVbB",
        "colab_type": "code",
        "outputId": "83cefbcd-f3de-4795-e354-a07fb02f625c",
        "colab": {
          "base_uri": "https://localhost:8080/",
          "height": 308
        }
      },
      "source": [
        "plt.hist(df_sample['Country'])\n",
        "plt.xlabel('Country')\n",
        "plt.ylabel('Frequency')\n",
        "plt.title('Frequency of Country')"
      ],
      "execution_count": 0,
      "outputs": [
        {
          "output_type": "execute_result",
          "data": {
            "text/plain": [
              "Text(0.5, 1.0, 'Frequency of Country')"
            ]
          },
          "metadata": {
            "tags": []
          },
          "execution_count": 100
        },
        {
          "output_type": "display_data",
          "data": {
            "image/png": "[encoded data removed]",
            "text/plain": [
              "<Figure size 432x288 with 1 Axes>"
            ]
          },
          "metadata": {
            "tags": []
          }
        }
      ]
    },
    {
      "cell_type": "code",
      "metadata": {
        "id": "HjmK3iYCz9SO",
        "colab_type": "code",
        "outputId": "fe52711f-d69b-4afd-e51e-710c62596b54",
        "colab": {
          "base_uri": "https://localhost:8080/",
          "height": 308
        }
      },
      "source": [
        "plt.hist(df_sample['No. of confirmed, probable and suspected deaths'])\n",
        "plt.xlabel('No. of confirmed, probable and suspected deaths')\n",
        "plt.ylabel('Frequency')\n",
        "plt.title('Frequency of No. of confirmed, probable and suspected deaths')"
      ],
      "execution_count": 0,
      "outputs": [
        {
          "output_type": "execute_result",
          "data": {
            "text/plain": [
              "Text(0.5, 1.0, 'Frequency of No. of confirmed, probable and suspected deaths')"
            ]
          },
          "metadata": {
            "tags": []
          },
          "execution_count": 101
        },
        {
          "output_type": "display_data",
          "data": {
            "image/png": "[encoded data removed]",
            "text/plain": [
              "<Figure size 432x288 with 1 Axes>"
            ]
          },
          "metadata": {
            "tags": []
          }
        }
      ]
    },
    {
      "cell_type": "code",
      "metadata": {
        "id": "YSAEm7LW0F8h",
        "colab_type": "code",
        "outputId": "4d17449c-849b-474f-eddc-4d6a76fd6fd9",
        "colab": {
          "base_uri": "https://localhost:8080/",
          "height": 294
        }
      },
      "source": [
        "#plt.boxplot(df_sample['No. of confirmed, probable and suspected deaths'])\n",
        "plt.boxplot(df_sample['No. of confirmed, probable and suspected deaths'], showmeans=True, meanline=True)\n",
        "plt.ylabel('No. of confirmed, probable and suspected deaths count')\n",
        "plt.title('Box Plot of No. of confirmed, probable and suspected deaths count')"
      ],
      "execution_count": 0,
      "outputs": [
        {
          "output_type": "execute_result",
          "data": {
            "text/plain": [
              "Text(0.5, 1.0, 'Box Plot of No. of confirmed, probable and suspected deaths count')"
            ]
          },
          "metadata": {
            "tags": []
          },
          "execution_count": 102
        },
        {
          "output_type": "display_data",
          "data": {
            "image/png": "[encoded data removed]",
            "text/plain": [
              "<Figure size 432x288 with 1 Axes>"
            ]
          },
          "metadata": {
            "tags": []
          }
        }
      ]
    }
  ]
}